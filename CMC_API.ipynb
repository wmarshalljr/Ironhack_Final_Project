{
 "cells": [
  {
   "cell_type": "markdown",
   "metadata": {},
   "source": [
    "# CoinMarketCap APIs - Pulling active / inactive status and matching to my original dataset"
   ]
  },
  {
   "cell_type": "code",
   "execution_count": null,
   "metadata": {},
   "outputs": [],
   "source": [
    "# pip install cmc-api"
   ]
  },
  {
   "cell_type": "code",
   "execution_count": 1,
   "metadata": {},
   "outputs": [],
   "source": [
    "from cmc_api import CoinMarketCap"
   ]
  },
  {
   "cell_type": "code",
   "execution_count": 2,
   "metadata": {},
   "outputs": [],
   "source": [
    "cmc = CoinMarketCap('API_KEY')"
   ]
  },
  {
   "cell_type": "code",
   "execution_count": 24,
   "metadata": {},
   "outputs": [],
   "source": [
    "import pandas as pd\n",
    "import numpy as np\n",
    "from requests import Request, Session\n",
    "import requests\n",
    "import json\n",
    "import time\n",
    "import webbrowser\n",
    "import pprint"
   ]
  },
  {
   "cell_type": "code",
   "execution_count": null,
   "metadata": {},
   "outputs": [],
   "source": [
    "def getInfo (): # Function to get the info\n",
    "\n",
    "    url = 'https://pro-api.coinmarketcap.com/v1/cryptocurrency/map' # Coinmarketcap API url\n",
    "\n",
    "    parameters = { 'symbol': 'ZRX'} # API parameters to pass in for retrieving specific cryptocurrency data\n",
    "\n",
    "    headers = {\n",
    "        'Accepts': 'application/json',\n",
    "        'API_KEY'\n",
    "    } # Replace 'YOUR_API_KEY' with the API key you have recieved in the previous step\n",
    "\n",
    "    session = Session()\n",
    "    session.headers.update(headers)\n",
    "\n",
    "    response = session.get(url, params=parameters)\n",
    "\n",
    "    info = json.loads(response.text)\n",
    "\n",
    "    pprint.pprint(info)\n",
    "        \n",
    "getInfo() # Calling the function to get the statistics"
   ]
  },
  {
   "cell_type": "code",
   "execution_count": 16,
   "metadata": {},
   "outputs": [],
   "source": [
    "# Using this to pull the active / inactive status of a coin from CMC's APIs\n",
    "\n",
    "cmc_active = cmc.map(symbol = cmc_ticker)"
   ]
  },
  {
   "cell_type": "code",
   "execution_count": 31,
   "metadata": {},
   "outputs": [],
   "source": [
    "cmc_list = pd.json_normalize(cmc_active)"
   ]
  },
  {
   "cell_type": "code",
   "execution_count": 33,
   "metadata": {},
   "outputs": [],
   "source": [
    "cmc_list.to_csv('cmc_api_list.csv')"
   ]
  },
  {
   "cell_type": "code",
   "execution_count": 15,
   "metadata": {},
   "outputs": [
    {
     "name": "stdout",
     "output_type": "stream",
     "text": [
      "New list after removing unwanted numbers:  ['ZRX', 'ACT', 'ADB', 'ADL', 'ADX', 'ADH', 'ADI', 'ADT', 'AE', 'DLT', 'AID', 'AIX', 'AST', 'AIR', 'ALIS', 'AMB', 'APPC', 'ANT', 'ABX', 'ATB', 'ATL', 'AVT', 'AXPR', 'BANCA', 'BNT', 'BKX', 'BAT', 'CREDO', 'CAT', 'BDG', 'CSNO', 'STU', 'ETHOS', 'BMC', 'ARY', 'CAT', 'BCAP', 'BPL', 'TIX', 'VEE', 'BLT', 'BLZ', 'BOS', 'BNTY', 'BRD', 'CAN', 'CTX', 'CAS', 'CTR', 'LINK', 'CAG', 'TIME', 'DAY', 'CND', 'CVC', 'COB', 'CFI', 'CDT', 'STAC', 'CBT', 'COR', 'COV', 'CRPT', 'C20', 'CPAY', 'PING', 'CMT', 'BET', 'DTB', 'DAT', 'DRP', 'DEB', 'DCT', 'MANA', 'EVE', 'DGD', 'DIM', 'DNT', 'DIVX', 'DMT', 'DOCK', 'DRT', 'DOV', 'DTR', 'EBC', 'ECOB', 'ELEC', 'ETN', 'DNA', 'ETT', 'ENG', 'ENJ', 'EVN', 'ETBS', 'EMV', 'FUEL', 'LEND', 'EVX', 'FDX', 'FTX', '1ST', 'FLIXX', 'FYN', 'FUN', 'FSN', 'FLP', 'GAT', 'GNX', 'GTO', 'WTT', 'GLA', 'GNO', 'GNT', 'GRID', 'GET', 'HKN', 'HADE', 'HDAC', 'HGT', 'HERO', 'HVN', 'HBT', 'HMQ', 'ICN', 'ICOS', 'ICE', 'RLC', 'IGNIS', 'INCNT', 'IDH', 'IND', 'INSTAR', 'IPL', 'IFT', 'IPSX', 'ING', 'IXT', 'JNT', 'KICK', 'KIN', 'KMD', 'KNC', 'TAU', 'LATX', 'LA', 'LDC', 'LEV', 'LSK', 'LOCI', 'LRC', 'LUN', 'LKK', 'LYM', 'ART', 'GUP', 'MTX', 'MCAP', 'MED', 'MTN', 'MLN', 'GMT', 'AMM', 'MGO', 'MOBI', 'MOD', 'MCO', 'MTH', 'MSP', 'MCI', 'MYB', 'MYST', 'NGC', 'NPX', 'NEU', 'NTK', 'NET', 'NOX', 'NVST', 'OAX', 'OMG', 'OPT', 'TRAC', 'OXY', 'PRG', 'PTOY', 'PPY', 'PLR', 'PKT', 'POE', 'PLBT', 'POWR', 'PBT', 'PRIX', 'PRO', 'PBL', 'NPXS', 'QASH', 'QBT', 'QLC', 'QTUM', 'RDN', 'REAL', 'PHX', 'BERRY', 'REQ', 'MWAT', 'XRL', 'RCN', 'RVT', 'SAN', 'KEY', 'SHP', 'OST', 'SNGLS', 'SRN', 'SKIN', 'SIFT', 'SMT', 'SCL', 'SNM', 'SPHTX', 'SIG', 'SXUT', 'XID', 'SPF', 'STAR', 'STA', 'SNT', 'STQ', 'STORJ', 'STORM', 'STX', 'SUB', 'SNC', 'SUR', 'CHSB', 'AMP', 'TAAS', 'TGT', 'TFD', 'TEL', 'PAY', 'XTZ', 'TNT', 'TIE', 'TNB', 'TBX', 'TKN', 'TPAY', 'TOMO', 'TIO', 'BBC', 'TFL', 'UKG', 'UTNP', 'UP', 'UQC', 'UTK', 'VERI', 'VZT', 'VIB', 'VSL', 'WABI', 'WGR', 'WAVES', 'TRST', 'WINGS', 'XPA', 'ZENGOLD', 'ZRC']\n"
     ]
    }
   ],
   "source": [
    "# items to be removed - I had to do this to remove 6 nans in the CMC API:\n",
    "\n",
    "# unwanted_ele = {'AGI','ARN','B2B','CPY','DADI','WAX'}\n",
    " \n",
    "# cmc_ticker = [ele for ele in cmc_ticker if ele not in unwanted_ele]\n",
    " \n",
    "# printing modified list\n",
    "\n",
    "# print(\"New list after removing unwanted elements: \", cmc_ticker)"
   ]
  },
  {
   "cell_type": "code",
   "execution_count": 14,
   "metadata": {},
   "outputs": [],
   "source": [
    "# With bad symbols removed:\n",
    "\n",
    "cmc_ticker = ['ZRX', 'ACT', 'ADB', 'ADL', 'ADX', 'ADH', 'ADI', 'ADT', 'AE', 'DLT', 'AID', 'AIX', 'AST', 'AIR', 'ALIS', 'AMB', 'APPC', 'ANT', 'ABX', 'ATB', 'ATL', 'AVT', 'AXPR', 'BANCA', 'BNT', 'BKX', 'BAT', 'CREDO', 'CAT', 'BDG', 'CSNO', 'STU', 'ETHOS', 'BMC', 'ARY', 'CAT', 'BCAP', 'BPL', 'TIX', 'VEE', 'BLT', 'BLZ', 'BOS', 'BNTY', 'BRD', 'CAN', 'CTX', 'CAS', 'CTR', 'LINK', 'CAG', 'TIME', 'DAY', 'CND', 'CVC', 'COB', 'CFI', 'CDT', 'STAC', 'CBT', 'COR', 'COV', 'CRPT', 'C20', 'CPAY', 'PING', 'CMT', 'BET', 'DTB', 'DAT', 'DRP', 'DEB', 'DCT', 'MANA', 'EVE', 'DGD', 'DIM', 'DNT', 'DIVX', 'DMT', 'DOCK', 'DRT', 'DOV', 'DTR', 'EBC', 'ECOB', 'ELEC', 'ETN', 'DNA', 'ETT', 'ENG', 'ENJ', 'EVN', 'ETBS', 'EMV', 'FUEL', 'LEND', 'EVX', 'FDX', 'FTX', '1ST', 'FLIXX', 'FYN', 'FUN', 'FSN', 'FLP', 'GAT', 'GNX', 'GTO', 'WTT', 'GLA', 'GNO', 'GNT', 'GRID', 'GET', 'HKN', 'HADE', 'HDAC', 'HGT', 'HERO', 'HVN', 'HBT', 'HMQ', 'ICN', 'ICOS', 'ICE', 'RLC', 'IGNIS', 'INCNT', 'IDH', 'IND', 'INSTAR', 'IPL', 'IFT', 'IPSX', 'ING', 'IXT', 'JNT', 'KICK', 'KIN', 'KMD', 'KNC', 'TAU', 'LATX', 'LA', 'LDC', 'LEV', 'LSK', 'LOCI', 'LRC', 'LUN', 'LKK', 'LYM', 'ART', 'GUP', 'MTX', 'MCAP', 'MED', 'MTN', 'MLN', 'GMT', 'AMM', 'MGO', 'MOBI', 'MOD', 'MCO', 'MTH', 'MSP', 'MCI', 'MYB', 'MYST', 'NGC', 'NPX', 'NEU', 'NTK', 'NET', 'NOX', 'NVST', 'OAX', 'OMG', 'OPT', 'TRAC', 'OXY', 'PRG', 'PTOY', 'PPY', 'PLR', 'PKT', 'POE', 'PLBT', 'POWR', 'PBT', 'PRIX', 'PRO', 'PBL', 'NPXS', 'QASH', 'QBT', 'QLC', 'QTUM', 'RDN', 'REAL', 'PHX', 'BERRY', 'REQ', 'MWAT', 'XRL', 'RCN', 'RVT', 'SAN', 'KEY', 'SHP', 'OST', 'SNGLS', 'SRN', 'SKIN', 'SIFT', 'SMT', 'SCL', 'SNM', 'SPHTX', 'SIG', 'SXUT', 'XID', 'SPF', 'STAR', 'STA', 'SNT', 'STQ', 'STORJ', 'STORM', 'STX', 'SUB', 'SNC', 'SUR', 'CHSB', 'AMP', 'TAAS', 'TGT', 'TFD', 'TEL', 'PAY', 'XTZ', 'TNT', 'TIE', 'TNB', 'TBX', 'TKN', 'TPAY', 'TOMO', 'TIO', 'BBC', 'TFL', 'UKG', 'UTNP', 'UP', 'UQC', 'UTK', 'VERI', 'VZT', 'VIB', 'VSL', 'WABI', 'WGR', 'WAVES', 'TRST', 'WINGS', 'XPA', 'ZENGOLD', 'ZRC']"
   ]
  }
 ],
 "metadata": {
  "kernelspec": {
   "display_name": "Python 3.9.12 ('base')",
   "language": "python",
   "name": "python3"
  },
  "language_info": {
   "codemirror_mode": {
    "name": "ipython",
    "version": 3
   },
   "file_extension": ".py",
   "mimetype": "text/x-python",
   "name": "python",
   "nbconvert_exporter": "python",
   "pygments_lexer": "ipython3",
   "version": "3.9.12"
  },
  "orig_nbformat": 4,
  "vscode": {
   "interpreter": {
    "hash": "40d3a090f54c6569ab1632332b64b2c03c39dcf918b08424e98f38b5ae0af88f"
   }
  }
 },
 "nbformat": 4,
 "nbformat_minor": 2
}
