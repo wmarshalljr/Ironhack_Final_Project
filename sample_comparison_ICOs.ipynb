{
 "cells": [
  {
   "cell_type": "markdown",
   "metadata": {},
   "source": [
    "# Looking at active vs. non-active samples"
   ]
  },
  {
   "cell_type": "code",
   "execution_count": 1,
   "metadata": {},
   "outputs": [],
   "source": [
    "import pandas as pd\n",
    "import numpy as np\n",
    "import scipy.stats as st\n",
    "import statsmodels as sm\n",
    "import matplotlib.pyplot as plt\n",
    "import seaborn as sns\n",
    "from sklearn.preprocessing import MinMaxScaler, OneHotEncoder"
   ]
  },
  {
   "cell_type": "code",
   "execution_count": 2,
   "metadata": {},
   "outputs": [],
   "source": [
    "data = pd.read_csv('data_post_clean.csv', index_col=0)"
   ]
  },
  {
   "cell_type": "code",
   "execution_count": null,
   "metadata": {},
   "outputs": [],
   "source": [
    "data"
   ]
  },
  {
   "cell_type": "code",
   "execution_count": 3,
   "metadata": {},
   "outputs": [],
   "source": [
    "# Splitting the data into two samples: currently active and inactive crypto assets\n",
    "# See CMC_API notebook to understand where I got this data from...\n",
    "\n",
    "active = data[data['is_active']==1]\n",
    "inactive = data[data['is_active']==0]"
   ]
  },
  {
   "cell_type": "code",
   "execution_count": 5,
   "metadata": {},
   "outputs": [
    {
     "name": "stdout",
     "output_type": "stream",
     "text": [
      "(192, 17)\n"
     ]
    },
    {
     "data": {
      "text/plain": [
       "(77, 17)"
      ]
     },
     "execution_count": 5,
     "metadata": {},
     "output_type": "execute_result"
    }
   ],
   "source": [
    "print(active.shape)\n",
    "inactive.shape"
   ]
  },
  {
   "cell_type": "code",
   "execution_count": 4,
   "metadata": {},
   "outputs": [
    {
     "data": {
      "text/plain": [
       "F_onewayResult(statistic=5.310256324935528, pvalue=0.021967994601073126)"
      ]
     },
     "execution_count": 4,
     "metadata": {},
     "output_type": "execute_result"
    }
   ],
   "source": [
    "# This is the hypothesis test for question no. 2\n",
    "# There is a statistically significant difference between the means of each sample\n",
    "\n",
    "# Hypothesis test:\n",
    "\n",
    "# H0: No significant difference between the mean ICO fundraising totals of X_active and X_inactive crypto assets\n",
    "# Ha: There is a significant difference between the mean ICO fundraising totals of X_active and X_inactive crypto assets\n",
    "\n",
    "st.f_oneway(active['total_amount_raised_(usdm)'], inactive['total_amount_raised_(usdm)'])"
   ]
  },
  {
   "cell_type": "markdown",
   "metadata": {},
   "source": [
    "# Regressions for active / inactive w/ target of total amount raised (USDm)"
   ]
  },
  {
   "cell_type": "code",
   "execution_count": 11,
   "metadata": {},
   "outputs": [],
   "source": [
    "import statsmodels.api as sm"
   ]
  },
  {
   "cell_type": "code",
   "execution_count": 5,
   "metadata": {},
   "outputs": [],
   "source": [
    "data_cat = ['token_type','registration_country','legal_structure','industry', 'vc_count']\n",
    "\n",
    "data_dummy = ['is_active', 'celebrity_endorsement', 'ico_successful', 'investors_have_governance_rights', 'kyc/aml_procedure', 'legal_form_and_jurisdiction_known', 'use_of_proceeds_mentioned']\n",
    "\n",
    "data_num = ['length_of_crowdsale_(calendar_days,_actual)', 'team_size', 'time_to_listing_(calendar_days)', 'whitepaper_page_count']"
   ]
  },
  {
   "cell_type": "code",
   "execution_count": 6,
   "metadata": {},
   "outputs": [],
   "source": [
    "def clean(X,y):\n",
    "\n",
    "    # split numericals & categoricals\n",
    "    X_num = X[data_num]\n",
    "    X_cat = X[data_cat]\n",
    "\n",
    "    ## Scale the features either by using normalizer or a standard scaler.\n",
    "        \n",
    "    # fit and transform scaling numericals\n",
    "    minmax = MinMaxScaler().fit(X_num) \n",
    "    X_norm = minmax.transform(X_num)\n",
    "\n",
    "    # convert to dataframe again\n",
    "    X_norm = pd.DataFrame(X_norm,columns=X_num.columns).reset_index(drop=True)\n",
    "    \n",
    "    ## Encode the categorical features using One-Hot Encoding\n",
    "    \n",
    "    X_cat = X_cat.astype(str)\n",
    "\n",
    "    # fit and transform encoding categoricals\n",
    "    onehot = OneHotEncoder(drop='first', handle_unknown='ignore').fit(X_cat) \n",
    "    \n",
    "    cols = onehot.get_feature_names_out(input_features=X_cat.columns)\n",
    "\n",
    "    X_enc = onehot.transform(X_cat).toarray()\n",
    "    \n",
    "    # convert to dataframe again\n",
    "    X_enc = pd.DataFrame(X_enc, columns=cols).reset_index(drop=True)\n",
    "    \n",
    "    # ready to fit the model\n",
    "\n",
    "    data_dummy_added = X[data_dummy].reset_index(drop=True)\n",
    "    X_ready = pd.concat([X_norm,X_enc,data_dummy_added],axis=1)\n",
    "    \n",
    "    return X_ready, y"
   ]
  },
  {
   "cell_type": "code",
   "execution_count": 7,
   "metadata": {},
   "outputs": [],
   "source": [
    "# Active\n",
    "\n",
    "X_active_to_process = active.drop(['total_amount_raised_(usdm)'], axis=1)\n",
    "y_active_to_process = active[['total_amount_raised_(usdm)']]\n",
    "\n",
    "X_active, y_active = clean(X_active_to_process,y_active_to_process)"
   ]
  },
  {
   "cell_type": "code",
   "execution_count": 18,
   "metadata": {},
   "outputs": [],
   "source": [
    "y_active = y_active.reset_index(drop=True)"
   ]
  },
  {
   "cell_type": "code",
   "execution_count": 19,
   "metadata": {},
   "outputs": [],
   "source": [
    "X_added_active = sm.add_constant(X_active, has_constant='add')\n",
    "model_active = sm.OLS(y_active, X_added_active).fit()\n",
    "pred = model_active.predict(X_added_active)"
   ]
  },
  {
   "cell_type": "code",
   "execution_count": 36,
   "metadata": {},
   "outputs": [
    {
     "name": "stdout",
     "output_type": "stream",
     "text": [
      "                                OLS Regression Results                                \n",
      "======================================================================================\n",
      "Dep. Variable:     total_amount_raised_(usdm)   R-squared:                       0.429\n",
      "Model:                                    OLS   Adj. R-squared:                  0.161\n",
      "Method:                         Least Squares   F-statistic:                     1.600\n",
      "Date:                        Thu, 03 Nov 2022   Prob (F-statistic):             0.0134\n",
      "Time:                                20:59:20   Log-Likelihood:                -853.86\n",
      "No. Observations:                         192   AIC:                             1832.\n",
      "Df Residuals:                             130   BIC:                             2034.\n",
      "Df Model:                                  61                                         \n",
      "Covariance Type:                    nonrobust                                         \n",
      "=================================================================================================================\n",
      "                                                    coef    std err          t      P>|t|      [0.025      0.975]\n",
      "-----------------------------------------------------------------------------------------------------------------\n",
      "const                                           -14.8114     26.141     -0.567      0.572     -66.527      36.905\n",
      "length_of_crowdsale_(calendar_days,_actual)     -17.2175     12.379     -1.391      0.167     -41.709       7.274\n",
      "team_size                                        37.3201     18.770      1.988      0.049       0.187      74.453\n",
      "time_to_listing_(calendar_days)                 -10.1103     28.575     -0.354      0.724     -66.643      46.422\n",
      "whitepaper_page_count                             8.0358     18.713      0.429      0.668     -28.986      45.057\n",
      "token_type_New Blockchain                        -7.4350     10.939     -0.680      0.498     -29.077      14.207\n",
      "token_type_Security                              -2.8831      9.092     -0.317      0.752     -20.871      15.105\n",
      "token_type_Utility-token                          2.6916      7.844      0.343      0.732     -12.827      18.210\n",
      "token_type_unknown                                5.8782     18.069      0.325      0.745     -29.869      41.626\n",
      "registration_country_Estonia                     11.3759     11.639      0.977      0.330     -11.651      34.403\n",
      "registration_country_Gibraltar                   -1.1261     10.338     -0.109      0.913     -21.579      19.327\n",
      "registration_country_Hong Kong                   -8.5113     11.677     -0.729      0.467     -31.613      14.590\n",
      "registration_country_Singapore                    1.7220      8.323      0.207      0.836     -14.744      18.188\n",
      "registration_country_Switzerland                 18.9237      8.977      2.108      0.037       1.164      36.683\n",
      "registration_country_United Kingdom               1.8245     10.608      0.172      0.864     -19.163      22.812\n",
      "registration_country_United States                4.3760      9.145      0.478      0.633     -13.717      22.469\n",
      "registration_country_other                        7.6276      9.017      0.846      0.399     -10.211      25.466\n",
      "legal_structure_joint-stock corporation          -3.6736      7.898     -0.465      0.643     -19.299      11.952\n",
      "legal_structure_limited liability partnership    -4.3140      9.559     -0.451      0.653     -23.226      14.598\n",
      "legal_structure_other                            -3.4382     29.346     -0.117      0.907     -61.496      54.619\n",
      "industry_Blockchain Infrastructure               43.8714     20.781      2.111      0.037       2.758      84.985\n",
      "industry_Charity                                 -5.9292     33.657     -0.176      0.860     -72.516      60.658\n",
      "industry_Cloud Computing                          0.1832     26.081      0.007      0.994     -51.415      51.781\n",
      "industry_Commerce & Advertising                  22.9690     21.870      1.050      0.296     -20.299      66.237\n",
      "industry_Communications                          42.0912     21.933      1.919      0.057      -1.301      85.483\n",
      "industry_Content Management                       3.0352     21.916      0.138      0.890     -40.323      46.394\n",
      "industry_Cryptocurrency Mining                   62.7634     34.185      1.836      0.069      -4.868     130.394\n",
      "industry_Data Analytics                          32.4257     24.096      1.346      0.181     -15.244      80.096\n",
      "industry_Data Storage                            46.9806     33.682      1.395      0.165     -19.655     113.616\n",
      "industry_Drugs & Healthcare                      25.7488     22.912      1.124      0.263     -19.580      71.077\n",
      "industry_Energy & Utilities                      38.4000     24.777      1.550      0.124     -10.618      87.418\n",
      "industry_Events & Entertainment                  19.8932     23.390      0.851      0.397     -26.381      66.168\n",
      "industry_Finance                                 26.1442     20.173      1.296      0.197     -13.765      66.053\n",
      "industry_Gambling & Betting                      26.2331     22.782      1.151      0.252     -18.838      71.304\n",
      "industry_Health                                  16.7743     33.958      0.494      0.622     -50.407      83.955\n",
      "industry_Identity & Reputation                   23.8338     28.272      0.843      0.401     -32.099      79.766\n",
      "industry_Insurance                                9.4577     27.809      0.340      0.734     -45.559      64.474\n",
      "industry_Legal                                   39.5672     33.769      1.172      0.243     -27.241     106.375\n",
      "industry_Marketplaces                            21.1481     21.178      0.999      0.320     -20.750      63.046\n",
      "industry_Payments                                35.5690     20.818      1.709      0.090      -5.616      76.754\n",
      "industry_Privacy & Security                      22.7220     24.299      0.935      0.351     -25.350      70.794\n",
      "industry_Provenance & Notary                     34.4613     25.377      1.358      0.177     -15.744      84.666\n",
      "industry_Real Estate                             24.9289     23.109      1.079      0.283     -20.790      70.648\n",
      "industry_Search                                  27.7269     27.895      0.994      0.322     -27.460      82.913\n",
      "industry_Social Networks                         27.4435     22.242      1.234      0.219     -16.559      71.446\n",
      "industry_Trading & Exchanges                     35.4120     20.717      1.709      0.090      -5.573      76.397\n",
      "industry_Video Games & VR                        33.6320     22.091      1.522      0.130     -10.073      77.337\n",
      "vc_count_1                                        8.4411      7.425      1.137      0.258      -6.249      23.131\n",
      "vc_count_11                                       8.9187     27.486      0.324      0.746     -45.459      63.297\n",
      "vc_count_2                                       36.4558      7.831      4.655      0.000      20.964      51.948\n",
      "vc_count_3                                       -9.2392     10.622     -0.870      0.386     -30.254      11.776\n",
      "vc_count_4                                        9.0916     14.666      0.620      0.536     -19.924      38.107\n",
      "vc_count_5                                       30.6324     16.198      1.891      0.061      -1.414      62.679\n",
      "vc_count_6                                       21.6294     19.901      1.087      0.279     -17.742      61.000\n",
      "vc_count_8                                        6.6581     20.049      0.332      0.740     -33.007      46.324\n",
      "vc_count_9                                       23.4420     26.815      0.874      0.384     -29.609      76.493\n",
      "is_active                                       -14.8114     26.141     -0.567      0.572     -66.527      36.905\n",
      "celebrity_endorsement                            -0.7642     11.417     -0.067      0.947     -23.352      21.824\n",
      "ico_successful                                   13.0045     26.896      0.484      0.630     -40.207      66.216\n",
      "investors_have_governance_rights                  0.8796      6.209      0.142      0.888     -11.404      13.163\n",
      "kyc/aml_procedure                                 0.1244      4.948      0.025      0.980      -9.665       9.914\n",
      "legal_form_and_jurisdiction_known                 5.9427     28.937      0.205      0.838     -51.305      63.191\n",
      "use_of_proceeds_mentioned                         3.7502      5.325      0.704      0.483      -6.785      14.285\n",
      "==============================================================================\n",
      "Omnibus:                      119.974   Durbin-Watson:                   1.818\n",
      "Prob(Omnibus):                  0.000   Jarque-Bera (JB):             1263.494\n",
      "Skew:                           2.160   Prob(JB):                    4.32e-275\n",
      "Kurtosis:                      14.801   Cond. No.                     1.30e+15\n",
      "==============================================================================\n",
      "\n",
      "Notes:\n",
      "[1] Standard Errors assume that the covariance matrix of the errors is correctly specified.\n",
      "[2] The smallest eigenvalue is 7.53e-28. This might indicate that there are\n",
      "strong multicollinearity problems or that the design matrix is singular.\n"
     ]
    }
   ],
   "source": [
    "print(model_active.summary())"
   ]
  },
  {
   "cell_type": "code",
   "execution_count": 38,
   "metadata": {},
   "outputs": [],
   "source": [
    "active_result = pd.DataFrame(model_active.summary2().tables[1])\n",
    "\n",
    "active_result = round(active_result, 3)\n",
    "\n",
    "active_result.to_csv('active_result.csv')"
   ]
  },
  {
   "cell_type": "code",
   "execution_count": 22,
   "metadata": {},
   "outputs": [
    {
     "data": {
      "text/plain": [
       "['team_size',\n",
       " 'registration_country_Switzerland',\n",
       " 'industry_Blockchain Infrastructure',\n",
       " 'vc_count_2']"
      ]
     },
     "execution_count": 22,
     "metadata": {},
     "output_type": "execute_result"
    }
   ],
   "source": [
    "significant_features_active = list(active_result[active_result['P>|t|']<=0.05].index)[0:]\n",
    "\n",
    "significant_features_active"
   ]
  },
  {
   "cell_type": "code",
   "execution_count": 23,
   "metadata": {},
   "outputs": [],
   "source": [
    "# Inactive\n",
    "\n",
    "X_inactive_to_process = inactive.drop(['total_amount_raised_(usdm)'], axis=1)\n",
    "y_inactive_to_process = inactive[['total_amount_raised_(usdm)']]\n",
    "\n",
    "X_inactive, y_inactive = clean(X_inactive_to_process,y_inactive_to_process)"
   ]
  },
  {
   "cell_type": "code",
   "execution_count": 24,
   "metadata": {},
   "outputs": [],
   "source": [
    "y_inactive = y_inactive.reset_index(drop=True)"
   ]
  },
  {
   "cell_type": "code",
   "execution_count": 26,
   "metadata": {},
   "outputs": [],
   "source": [
    "X_added_inactive = sm.add_constant(X_inactive)\n",
    "model_inactive = sm.OLS(y_inactive, X_added_inactive).fit()\n",
    "pred_in = model_inactive.predict(X_added_inactive)"
   ]
  },
  {
   "cell_type": "code",
   "execution_count": null,
   "metadata": {},
   "outputs": [],
   "source": [
    "print(model_inactive.summary())"
   ]
  },
  {
   "cell_type": "code",
   "execution_count": 37,
   "metadata": {},
   "outputs": [],
   "source": [
    "inactive_result = pd.DataFrame(model_inactive.summary2().tables[1])\n",
    "\n",
    "inactive_result = round(inactive_result, 3)\n",
    "\n",
    "inactive_result.to_csv('inactive_result.csv')"
   ]
  },
  {
   "cell_type": "code",
   "execution_count": 29,
   "metadata": {},
   "outputs": [
    {
     "data": {
      "text/plain": [
       "['legal_structure_joint-stock corporation',\n",
       " 'legal_structure_limited liability partnership',\n",
       " 'legal_structure_other',\n",
       " 'vc_count_2',\n",
       " 'investors_have_governance_rights']"
      ]
     },
     "execution_count": 29,
     "metadata": {},
     "output_type": "execute_result"
    }
   ],
   "source": [
    "significant_features_inactive = list(inactive_result[inactive_result['P>|t|']<=0.05].index)[0:]\n",
    "\n",
    "significant_features_inactive"
   ]
  },
  {
   "cell_type": "code",
   "execution_count": 41,
   "metadata": {},
   "outputs": [
    {
     "data": {
      "text/plain": [
       "Text(0, 0.5, 'total amount raised in USDm (predicted)')"
      ]
     },
     "execution_count": 41,
     "metadata": {},
     "output_type": "execute_result"
    },
    {
     "data": {
      "image/png": "[encoded data removed]",
      "text/plain": [
       "<Figure size 432x288 with 1 Axes>"
      ]
     },
     "metadata": {
      "needs_background": "light"
     },
     "output_type": "display_data"
    }
   ],
   "source": [
    "# I plan to discuss this in the results because of the paradoxical results compared to the classification problem\n",
    "\n",
    "sns.regplot(x=X_inactive['registration_country_Switzerland'], y=pred_in, ci=None, scatter_kws={'color': 'green'}, line_kws={'color': 'orange'})\n",
    "plt.xlabel('Registered in Switzerland')\n",
    "plt.ylabel('total amount raised in USDm (predicted)')"
   ]
  }
 ],
 "metadata": {
  "kernelspec": {
   "display_name": "Python 3.9.12 ('base')",
   "language": "python",
   "name": "python3"
  },
  "language_info": {
   "codemirror_mode": {
    "name": "ipython",
    "version": 3
   },
   "file_extension": ".py",
   "mimetype": "text/x-python",
   "name": "python",
   "nbconvert_exporter": "python",
   "pygments_lexer": "ipython3",
   "version": "3.9.12"
  },
  "orig_nbformat": 4,
  "vscode": {
   "interpreter": {
    "hash": "40d3a090f54c6569ab1632332b64b2c03c39dcf918b08424e98f38b5ae0af88f"
   }
  }
 },
 "nbformat": 4,
 "nbformat_minor": 2
}
