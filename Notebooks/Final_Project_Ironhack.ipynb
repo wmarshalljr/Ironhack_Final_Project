{
 "cells": [
  {
   "cell_type": "markdown",
   "metadata": {},
   "source": [
    "# Ironhack Final Project: Predictors of Crypto ICO Success"
   ]
  },
  {
   "cell_type": "markdown",
   "metadata": {},
   "source": [
    "## Importing libraries"
   ]
  },
  {
   "cell_type": "code",
   "execution_count": 1,
   "metadata": {},
   "outputs": [],
   "source": [
    "import pandas as pd\n",
    "import numpy as np\n",
    "import matplotlib.pyplot as plt\n",
    "import seaborn as sns \n",
    "import time\n",
    "from datetime import date\n",
    "import re\n",
    "\n",
    "import warnings\n",
    "warnings.filterwarnings('ignore')"
   ]
  },
  {
   "cell_type": "markdown",
   "metadata": {},
   "source": [
    "## Importing dataset, cleaning and exploration"
   ]
  },
  {
   "cell_type": "code",
   "execution_count": 2,
   "metadata": {},
   "outputs": [],
   "source": [
    "data = pd.read_csv('Ico_dataset_final.csv')"
   ]
  },
  {
   "cell_type": "code",
   "execution_count": 3,
   "metadata": {},
   "outputs": [
    {
     "data": {
      "text/plain": [
       "(306, 126)"
      ]
     },
     "execution_count": 3,
     "metadata": {},
     "output_type": "execute_result"
    }
   ],
   "source": [
    "data.shape"
   ]
  },
  {
   "cell_type": "code",
   "execution_count": 4,
   "metadata": {},
   "outputs": [
    {
     "data": {
      "text/plain": [
       "Index(['name_other', 'name_cmc', 'ticker_symbol_cmc', 'ico_successful',\n",
       "       'soft_cap', 'hard_cap', 'cap_unit', 'cap_includes_presale',\n",
       "       'token_type', 'number_of_contributors',\n",
       "       ...\n",
       "       'Legal entity is corporation', 'Legal entity is LLC',\n",
       "       'Legal entity is corporation or LLC',\n",
       "       'Length of crowdsale (calendar days, actual)',\n",
       "       'Length of crowdsale (calendar days, planned)',\n",
       "       'lock_up_period_team_ep', 'presale_transparent', 'industry.1',\n",
       "       '(first) date', 'Time to listing (calendar days)'],\n",
       "      dtype='object', length=126)"
      ]
     },
     "execution_count": 4,
     "metadata": {},
     "output_type": "execute_result"
    }
   ],
   "source": [
    "data.columns"
   ]
  },
  {
   "cell_type": "code",
   "execution_count": 3,
   "metadata": {},
   "outputs": [],
   "source": [
    "cmc_ticker = list(data['ticker_symbol_cmc'].dropna())\n",
    "cmc_name = list(data['name_cmc'].dropna())"
   ]
  },
  {
   "cell_type": "code",
   "execution_count": 4,
   "metadata": {},
   "outputs": [],
   "source": [
    "cmc_name = list(cmc_name)\n",
    "cmc_ticker = list(cmc_ticker)"
   ]
  },
  {
   "cell_type": "code",
   "execution_count": 94,
   "metadata": {},
   "outputs": [],
   "source": [
    "data_keep = data[['name_other', 'name_cmc', 'ticker_symbol_cmc', 'token_type','vc_support_blockchain_specialist',\n",
    "'vc_support_general','registration_country','legal_structure','industry',\n",
    "'Celebrity endorsement','ico_successful', 'Investors have governance rights',\n",
    "'KYC/AML procedure','Legal form and jurisdiction known','Length of crowdsale (calendar days, actual)','Team size',\n",
    "'Time to listing (calendar days)', 'Total amount raised (USDm)', 'Use of proceeds mentioned', 'Whitepaper page count']]"
   ]
  },
  {
   "cell_type": "code",
   "execution_count": 91,
   "metadata": {},
   "outputs": [
    {
     "data": {
      "text/plain": [
       "(306, 21)"
      ]
     },
     "execution_count": 91,
     "metadata": {},
     "output_type": "execute_result"
    }
   ],
   "source": [
    "data_keep.shape"
   ]
  },
  {
   "cell_type": "code",
   "execution_count": null,
   "metadata": {},
   "outputs": [],
   "source": [
    "data_keep.columns"
   ]
  },
  {
   "cell_type": "code",
   "execution_count": null,
   "metadata": {},
   "outputs": [],
   "source": [
    "data_keep.dtypes"
   ]
  },
  {
   "cell_type": "markdown",
   "metadata": {},
   "source": [
    "## Comparing to CoinMarketCap (CMC) api"
   ]
  },
  {
   "cell_type": "code",
   "execution_count": 6,
   "metadata": {},
   "outputs": [],
   "source": [
    "cmc_active = pd.read_csv('cmc_api_list.csv', index_col=None)"
   ]
  },
  {
   "cell_type": "code",
   "execution_count": 8,
   "metadata": {},
   "outputs": [],
   "source": [
    "cmc_active = cmc_active.drop('Unnamed: 0', axis=1)"
   ]
  },
  {
   "cell_type": "code",
   "execution_count": null,
   "metadata": {},
   "outputs": [],
   "source": [
    "cmc_active"
   ]
  },
  {
   "cell_type": "code",
   "execution_count": 10,
   "metadata": {},
   "outputs": [
    {
     "data": {
      "text/plain": [
       "0"
      ]
     },
     "execution_count": 10,
     "metadata": {},
     "output_type": "execute_result"
    }
   ],
   "source": [
    "# It's returning 506 rows which means the ticker symbols are share by more than one cryptocurrency...\n",
    "\n",
    "sum(cmc_active.duplicated())"
   ]
  },
  {
   "cell_type": "code",
   "execution_count": 11,
   "metadata": {},
   "outputs": [
    {
     "data": {
      "text/plain": [
       "276"
      ]
     },
     "execution_count": 11,
     "metadata": {},
     "output_type": "execute_result"
    }
   ],
   "source": [
    "# I should end up with 276 rows if the match is correct. Not 506 rows.\n",
    "\n",
    "len(cmc_name)"
   ]
  },
  {
   "cell_type": "code",
   "execution_count": 12,
   "metadata": {},
   "outputs": [],
   "source": [
    "# Trying to match the cmc api list with the dataset names (from cmc) but it gives 232 rows instead of 276\n",
    "\n",
    "cmc_match = cmc_active[cmc_active['name'].isin(cmc_name) | cmc_active['slug'].isin(cmc_name)]"
   ]
  },
  {
   "cell_type": "code",
   "execution_count": null,
   "metadata": {},
   "outputs": [],
   "source": [
    "cmc_match"
   ]
  },
  {
   "cell_type": "code",
   "execution_count": 14,
   "metadata": {},
   "outputs": [],
   "source": [
    "cmc_api = cmc_match['name']"
   ]
  },
  {
   "cell_type": "code",
   "execution_count": 15,
   "metadata": {},
   "outputs": [],
   "source": [
    "s = set(cmc_api)\n",
    "compared = [x for x in cmc_name if x not in s]"
   ]
  },
  {
   "cell_type": "code",
   "execution_count": 16,
   "metadata": {},
   "outputs": [],
   "source": [
    "compared = [item.lower() for item in compared]"
   ]
  },
  {
   "cell_type": "code",
   "execution_count": 17,
   "metadata": {},
   "outputs": [],
   "source": [
    "compared = [item.replace(' ','-') for item in compared]"
   ]
  },
  {
   "cell_type": "code",
   "execution_count": null,
   "metadata": {},
   "outputs": [],
   "source": [
    "compared"
   ]
  },
  {
   "cell_type": "code",
   "execution_count": 19,
   "metadata": {},
   "outputs": [
    {
     "data": {
      "text/plain": [
       "44"
      ]
     },
     "execution_count": 19,
     "metadata": {},
     "output_type": "execute_result"
    }
   ],
   "source": [
    "len(compared)"
   ]
  },
  {
   "cell_type": "code",
   "execution_count": 20,
   "metadata": {},
   "outputs": [],
   "source": [
    "difference = cmc_active[cmc_active['slug'].isin(compared)]"
   ]
  },
  {
   "cell_type": "code",
   "execution_count": null,
   "metadata": {},
   "outputs": [],
   "source": [
    "difference"
   ]
  },
  {
   "cell_type": "code",
   "execution_count": 22,
   "metadata": {},
   "outputs": [
    {
     "data": {
      "text/html": [
       "<div>\n",
       "<style scoped>\n",
       "    .dataframe tbody tr th:only-of-type {\n",
       "        vertical-align: middle;\n",
       "    }\n",
       "\n",
       "    .dataframe tbody tr th {\n",
       "        vertical-align: top;\n",
       "    }\n",
       "\n",
       "    .dataframe thead th {\n",
       "        text-align: right;\n",
       "    }\n",
       "</style>\n",
       "<table border=\"1\" class=\"dataframe\">\n",
       "  <thead>\n",
       "    <tr style=\"text-align: right;\">\n",
       "      <th></th>\n",
       "      <th>symbol</th>\n",
       "      <th>is_active</th>\n",
       "    </tr>\n",
       "  </thead>\n",
       "  <tbody>\n",
       "    <tr>\n",
       "      <th>0</th>\n",
       "      <td>1ST</td>\n",
       "      <td>0</td>\n",
       "    </tr>\n",
       "    <tr>\n",
       "      <th>1</th>\n",
       "      <td>ABX</td>\n",
       "      <td>1</td>\n",
       "    </tr>\n",
       "    <tr>\n",
       "      <th>2</th>\n",
       "      <td>ACT</td>\n",
       "      <td>1</td>\n",
       "    </tr>\n",
       "    <tr>\n",
       "      <th>3</th>\n",
       "      <td>ACT</td>\n",
       "      <td>1</td>\n",
       "    </tr>\n",
       "    <tr>\n",
       "      <th>4</th>\n",
       "      <td>ADB</td>\n",
       "      <td>1</td>\n",
       "    </tr>\n",
       "    <tr>\n",
       "      <th>...</th>\n",
       "      <td>...</td>\n",
       "      <td>...</td>\n",
       "    </tr>\n",
       "    <tr>\n",
       "      <th>501</th>\n",
       "      <td>XTZ</td>\n",
       "      <td>1</td>\n",
       "    </tr>\n",
       "    <tr>\n",
       "      <th>502</th>\n",
       "      <td>ZENGOLD</td>\n",
       "      <td>0</td>\n",
       "    </tr>\n",
       "    <tr>\n",
       "      <th>503</th>\n",
       "      <td>ZRC</td>\n",
       "      <td>0</td>\n",
       "    </tr>\n",
       "    <tr>\n",
       "      <th>504</th>\n",
       "      <td>ZRC</td>\n",
       "      <td>0</td>\n",
       "    </tr>\n",
       "    <tr>\n",
       "      <th>505</th>\n",
       "      <td>ZRX</td>\n",
       "      <td>1</td>\n",
       "    </tr>\n",
       "  </tbody>\n",
       "</table>\n",
       "<p>506 rows × 2 columns</p>\n",
       "</div>"
      ],
      "text/plain": [
       "      symbol  is_active\n",
       "0        1ST          0\n",
       "1        ABX          1\n",
       "2        ACT          1\n",
       "3        ACT          1\n",
       "4        ADB          1\n",
       "..       ...        ...\n",
       "501      XTZ          1\n",
       "502  ZENGOLD          0\n",
       "503      ZRC          0\n",
       "504      ZRC          0\n",
       "505      ZRX          1\n",
       "\n",
       "[506 rows x 2 columns]"
      ]
     },
     "execution_count": 22,
     "metadata": {},
     "output_type": "execute_result"
    }
   ],
   "source": [
    "cmc_active_symbol = cmc_active[['symbol', 'is_active']]\n",
    "\n",
    "cmc_active_symbol"
   ]
  },
  {
   "cell_type": "code",
   "execution_count": 97,
   "metadata": {},
   "outputs": [],
   "source": [
    "test = data_keep[data_keep['ticker_symbol_cmc'].isin(cmc_active['symbol'])]"
   ]
  },
  {
   "cell_type": "code",
   "execution_count": null,
   "metadata": {},
   "outputs": [],
   "source": [
    "test"
   ]
  },
  {
   "cell_type": "code",
   "execution_count": 99,
   "metadata": {},
   "outputs": [],
   "source": [
    "data_with_status = pd.merge(test,cmc_active_symbol,left_on = 'ticker_symbol_cmc', right_on = 'symbol' , how='left')"
   ]
  },
  {
   "cell_type": "code",
   "execution_count": 100,
   "metadata": {},
   "outputs": [],
   "source": [
    "data_with_status = data_with_status.drop_duplicates()"
   ]
  },
  {
   "cell_type": "code",
   "execution_count": 101,
   "metadata": {},
   "outputs": [
    {
     "data": {
      "text/plain": [
       "0"
      ]
     },
     "execution_count": 101,
     "metadata": {},
     "output_type": "execute_result"
    }
   ],
   "source": [
    "data_with_status.duplicated().sum()"
   ]
  },
  {
   "cell_type": "code",
   "execution_count": 31,
   "metadata": {},
   "outputs": [
    {
     "data": {
      "text/plain": [
       "(357, 25)"
      ]
     },
     "execution_count": 31,
     "metadata": {},
     "output_type": "execute_result"
    }
   ],
   "source": [
    "data_with_status.shape"
   ]
  },
  {
   "cell_type": "code",
   "execution_count": 30,
   "metadata": {},
   "outputs": [
    {
     "data": {
      "text/plain": [
       "CAT    4\n",
       "PHX    2\n",
       "GAT    2\n",
       "RCN    2\n",
       "FYN    2\n",
       "      ..\n",
       "HVN    1\n",
       "HBT    1\n",
       "HMQ    1\n",
       "ICN    1\n",
       "ZRC    1\n",
       "Name: ticker_symbol_cmc, Length: 269, dtype: int64"
      ]
     },
     "execution_count": 30,
     "metadata": {},
     "output_type": "execute_result"
    }
   ],
   "source": [
    "# Some symbols are reused in the CMC api\n",
    "\n",
    "data_with_status['ticker_symbol_cmc'].value_counts()"
   ]
  },
  {
   "cell_type": "code",
   "execution_count": 48,
   "metadata": {},
   "outputs": [
    {
     "data": {
      "text/html": [
       "<div>\n",
       "<style scoped>\n",
       "    .dataframe tbody tr th:only-of-type {\n",
       "        vertical-align: middle;\n",
       "    }\n",
       "\n",
       "    .dataframe tbody tr th {\n",
       "        vertical-align: top;\n",
       "    }\n",
       "\n",
       "    .dataframe thead th {\n",
       "        text-align: right;\n",
       "    }\n",
       "</style>\n",
       "<table border=\"1\" class=\"dataframe\">\n",
       "  <thead>\n",
       "    <tr style=\"text-align: right;\">\n",
       "      <th></th>\n",
       "      <th>name_other</th>\n",
       "      <th>name_cmc</th>\n",
       "      <th>ticker_symbol_cmc</th>\n",
       "      <th>token_type</th>\n",
       "      <th>vc_support_blockchain_specialist</th>\n",
       "      <th>vc_support_general</th>\n",
       "      <th>registration_country</th>\n",
       "      <th>legal_structure</th>\n",
       "      <th>industry</th>\n",
       "      <th>Amount raised in crowdsale (USDm)</th>\n",
       "      <th>...</th>\n",
       "      <th>Legal form and jurisdiction known</th>\n",
       "      <th>Length of crowdsale (calendar days, actual)</th>\n",
       "      <th>Percentage of hard cap raised (%)</th>\n",
       "      <th>Team size</th>\n",
       "      <th>Time to listing (calendar days)</th>\n",
       "      <th>Total amount raised (USDm)</th>\n",
       "      <th>Use of proceeds mentioned</th>\n",
       "      <th>Whitepaper page count</th>\n",
       "      <th>symbol</th>\n",
       "      <th>is_active</th>\n",
       "    </tr>\n",
       "  </thead>\n",
       "  <tbody>\n",
       "    <tr>\n",
       "      <th>213</th>\n",
       "      <td>Gatcoin</td>\n",
       "      <td>Gatcoin</td>\n",
       "      <td>GAT</td>\n",
       "      <td>Utility-token</td>\n",
       "      <td>No</td>\n",
       "      <td>No</td>\n",
       "      <td>Hong Kong</td>\n",
       "      <td>joint-stock corporation</td>\n",
       "      <td>Commerce &amp; Advertising</td>\n",
       "      <td>1.0</td>\n",
       "      <td>...</td>\n",
       "      <td>1</td>\n",
       "      <td>2</td>\n",
       "      <td>110.0</td>\n",
       "      <td>8.0</td>\n",
       "      <td>6.0</td>\n",
       "      <td>16.0</td>\n",
       "      <td>1</td>\n",
       "      <td>38.0</td>\n",
       "      <td>GAT</td>\n",
       "      <td>1</td>\n",
       "    </tr>\n",
       "    <tr>\n",
       "      <th>215</th>\n",
       "      <td>Gatcoin</td>\n",
       "      <td>Gatcoin</td>\n",
       "      <td>GAT</td>\n",
       "      <td>Utility-token</td>\n",
       "      <td>No</td>\n",
       "      <td>No</td>\n",
       "      <td>Hong Kong</td>\n",
       "      <td>joint-stock corporation</td>\n",
       "      <td>Commerce &amp; Advertising</td>\n",
       "      <td>1.0</td>\n",
       "      <td>...</td>\n",
       "      <td>1</td>\n",
       "      <td>2</td>\n",
       "      <td>110.0</td>\n",
       "      <td>8.0</td>\n",
       "      <td>6.0</td>\n",
       "      <td>16.0</td>\n",
       "      <td>1</td>\n",
       "      <td>38.0</td>\n",
       "      <td>GAT</td>\n",
       "      <td>0</td>\n",
       "    </tr>\n",
       "  </tbody>\n",
       "</table>\n",
       "<p>2 rows × 25 columns</p>\n",
       "</div>"
      ],
      "text/plain": [
       "    name_other name_cmc ticker_symbol_cmc     token_type  \\\n",
       "213    Gatcoin  Gatcoin               GAT  Utility-token   \n",
       "215    Gatcoin  Gatcoin               GAT  Utility-token   \n",
       "\n",
       "    vc_support_blockchain_specialist vc_support_general registration_country  \\\n",
       "213                               No                 No            Hong Kong   \n",
       "215                               No                 No            Hong Kong   \n",
       "\n",
       "             legal_structure                industry  \\\n",
       "213  joint-stock corporation  Commerce & Advertising   \n",
       "215  joint-stock corporation  Commerce & Advertising   \n",
       "\n",
       "     Amount raised in crowdsale (USDm)  ...  \\\n",
       "213                                1.0  ...   \n",
       "215                                1.0  ...   \n",
       "\n",
       "     Legal form and jurisdiction known  \\\n",
       "213                                  1   \n",
       "215                                  1   \n",
       "\n",
       "     Length of crowdsale (calendar days, actual)  \\\n",
       "213                                            2   \n",
       "215                                            2   \n",
       "\n",
       "     Percentage of hard cap raised (%)  Team size  \\\n",
       "213                              110.0        8.0   \n",
       "215                              110.0        8.0   \n",
       "\n",
       "     Time to listing (calendar days)  Total amount raised (USDm)  \\\n",
       "213                              6.0                        16.0   \n",
       "215                              6.0                        16.0   \n",
       "\n",
       "     Use of proceeds mentioned  Whitepaper page count  symbol  is_active  \n",
       "213                          1                   38.0     GAT          1  \n",
       "215                          1                   38.0     GAT          0  \n",
       "\n",
       "[2 rows x 25 columns]"
      ]
     },
     "execution_count": 48,
     "metadata": {},
     "output_type": "execute_result"
    }
   ],
   "source": [
    "data_with_status.loc[data_with_status['ticker_symbol_cmc']=='GAT']"
   ]
  },
  {
   "cell_type": "code",
   "execution_count": 46,
   "metadata": {},
   "outputs": [
    {
     "data": {
      "text/html": [
       "<div>\n",
       "<style scoped>\n",
       "    .dataframe tbody tr th:only-of-type {\n",
       "        vertical-align: middle;\n",
       "    }\n",
       "\n",
       "    .dataframe tbody tr th {\n",
       "        vertical-align: top;\n",
       "    }\n",
       "\n",
       "    .dataframe thead th {\n",
       "        text-align: right;\n",
       "    }\n",
       "</style>\n",
       "<table border=\"1\" class=\"dataframe\">\n",
       "  <thead>\n",
       "    <tr style=\"text-align: right;\">\n",
       "      <th></th>\n",
       "      <th>name_other</th>\n",
       "      <th>name_cmc</th>\n",
       "      <th>ticker_symbol_cmc</th>\n",
       "      <th>token_type</th>\n",
       "      <th>vc_support_blockchain_specialist</th>\n",
       "      <th>vc_support_general</th>\n",
       "      <th>registration_country</th>\n",
       "      <th>legal_structure</th>\n",
       "      <th>industry</th>\n",
       "      <th>Amount raised in crowdsale (USDm)</th>\n",
       "      <th>...</th>\n",
       "      <th>Investors have governance rights</th>\n",
       "      <th>KYC/AML procedure</th>\n",
       "      <th>Legal form and jurisdiction known</th>\n",
       "      <th>Length of crowdsale (calendar days, actual)</th>\n",
       "      <th>Percentage of hard cap raised (%)</th>\n",
       "      <th>Team size</th>\n",
       "      <th>Time to listing (calendar days)</th>\n",
       "      <th>Total amount raised (USDm)</th>\n",
       "      <th>Use of proceeds mentioned</th>\n",
       "      <th>Whitepaper page count</th>\n",
       "    </tr>\n",
       "  </thead>\n",
       "  <tbody>\n",
       "    <tr>\n",
       "      <th>232</th>\n",
       "      <td>Red Pulse</td>\n",
       "      <td>Red Pulse Phoenix</td>\n",
       "      <td>PHX</td>\n",
       "      <td>Utility-token</td>\n",
       "      <td>Badwater Capital</td>\n",
       "      <td>No</td>\n",
       "      <td>Hong Kong</td>\n",
       "      <td>joint-stock corporation</td>\n",
       "      <td>Finance</td>\n",
       "      <td>10.0</td>\n",
       "      <td>...</td>\n",
       "      <td>0</td>\n",
       "      <td>1</td>\n",
       "      <td>1</td>\n",
       "      <td>1</td>\n",
       "      <td>99.0</td>\n",
       "      <td>3.0</td>\n",
       "      <td>20.0</td>\n",
       "      <td>15.0</td>\n",
       "      <td>1</td>\n",
       "      <td>31.0</td>\n",
       "    </tr>\n",
       "  </tbody>\n",
       "</table>\n",
       "<p>1 rows × 23 columns</p>\n",
       "</div>"
      ],
      "text/plain": [
       "    name_other           name_cmc ticker_symbol_cmc     token_type  \\\n",
       "232  Red Pulse  Red Pulse Phoenix               PHX  Utility-token   \n",
       "\n",
       "    vc_support_blockchain_specialist vc_support_general registration_country  \\\n",
       "232                 Badwater Capital                 No            Hong Kong   \n",
       "\n",
       "             legal_structure industry  Amount raised in crowdsale (USDm)  ...  \\\n",
       "232  joint-stock corporation  Finance                               10.0  ...   \n",
       "\n",
       "     Investors have governance rights  KYC/AML procedure  \\\n",
       "232                                 0                  1   \n",
       "\n",
       "     Legal form and jurisdiction known  \\\n",
       "232                                  1   \n",
       "\n",
       "     Length of crowdsale (calendar days, actual)  \\\n",
       "232                                            1   \n",
       "\n",
       "     Percentage of hard cap raised (%)  Team size  \\\n",
       "232                               99.0        3.0   \n",
       "\n",
       "     Time to listing (calendar days)  Total amount raised (USDm)  \\\n",
       "232                             20.0                        15.0   \n",
       "\n",
       "     Use of proceeds mentioned  Whitepaper page count  \n",
       "232                          1                   31.0  \n",
       "\n",
       "[1 rows x 23 columns]"
      ]
     },
     "execution_count": 46,
     "metadata": {},
     "output_type": "execute_result"
    }
   ],
   "source": [
    "test.loc[test['ticker_symbol_cmc']=='PHX']"
   ]
  },
  {
   "cell_type": "code",
   "execution_count": 50,
   "metadata": {},
   "outputs": [
    {
     "data": {
      "text/html": [
       "<div>\n",
       "<style scoped>\n",
       "    .dataframe tbody tr th:only-of-type {\n",
       "        vertical-align: middle;\n",
       "    }\n",
       "\n",
       "    .dataframe tbody tr th {\n",
       "        vertical-align: top;\n",
       "    }\n",
       "\n",
       "    .dataframe thead th {\n",
       "        text-align: right;\n",
       "    }\n",
       "</style>\n",
       "<table border=\"1\" class=\"dataframe\">\n",
       "  <thead>\n",
       "    <tr style=\"text-align: right;\">\n",
       "      <th></th>\n",
       "      <th>id</th>\n",
       "      <th>name</th>\n",
       "      <th>symbol</th>\n",
       "      <th>slug</th>\n",
       "      <th>rank</th>\n",
       "      <th>displayTV</th>\n",
       "      <th>is_active</th>\n",
       "      <th>first_historical_data</th>\n",
       "      <th>last_historical_data</th>\n",
       "      <th>platform.id</th>\n",
       "      <th>platform.name</th>\n",
       "      <th>platform.symbol</th>\n",
       "      <th>platform.slug</th>\n",
       "      <th>platform.token_address</th>\n",
       "      <th>platform</th>\n",
       "    </tr>\n",
       "  </thead>\n",
       "  <tbody>\n",
       "    <tr>\n",
       "      <th>209</th>\n",
       "      <td>6213</td>\n",
       "      <td>Global AEX Token</td>\n",
       "      <td>GAT</td>\n",
       "      <td>global-aex-token</td>\n",
       "      <td>2793.0</td>\n",
       "      <td>1</td>\n",
       "      <td>1</td>\n",
       "      <td>2021-03-07T05:15:00.000Z</td>\n",
       "      <td>2022-10-28T09:55:00.000Z</td>\n",
       "      <td>NaN</td>\n",
       "      <td>NaN</td>\n",
       "      <td>NaN</td>\n",
       "      <td>NaN</td>\n",
       "      <td>NaN</td>\n",
       "      <td>NaN</td>\n",
       "    </tr>\n",
       "    <tr>\n",
       "      <th>210</th>\n",
       "      <td>10255</td>\n",
       "      <td>Game Ace Token</td>\n",
       "      <td>GAT</td>\n",
       "      <td>game-ace-token</td>\n",
       "      <td>3983.0</td>\n",
       "      <td>1</td>\n",
       "      <td>1</td>\n",
       "      <td>2021-07-19T09:42:02.000Z</td>\n",
       "      <td>2022-10-28T09:57:00.000Z</td>\n",
       "      <td>1839.0</td>\n",
       "      <td>BNB</td>\n",
       "      <td>BNB</td>\n",
       "      <td>bnb</td>\n",
       "      <td>0xF315cfC8550F6FcA969D397cA8b807C5033fA122</td>\n",
       "      <td>NaN</td>\n",
       "    </tr>\n",
       "    <tr>\n",
       "      <th>211</th>\n",
       "      <td>2425</td>\n",
       "      <td>Global Awards Token</td>\n",
       "      <td>GAT</td>\n",
       "      <td>global-awards-token</td>\n",
       "      <td>NaN</td>\n",
       "      <td>1</td>\n",
       "      <td>0</td>\n",
       "      <td>2018-01-20T00:29:26.000Z</td>\n",
       "      <td>2020-07-07T23:59:06.000Z</td>\n",
       "      <td>1027.0</td>\n",
       "      <td>Ethereum</td>\n",
       "      <td>ETH</td>\n",
       "      <td>ethereum</td>\n",
       "      <td>0x687174f8c49ceb7729d925c3a961507ea4ac7b28</td>\n",
       "      <td>NaN</td>\n",
       "    </tr>\n",
       "  </tbody>\n",
       "</table>\n",
       "</div>"
      ],
      "text/plain": [
       "        id                 name symbol                 slug    rank  \\\n",
       "209   6213     Global AEX Token    GAT     global-aex-token  2793.0   \n",
       "210  10255       Game Ace Token    GAT       game-ace-token  3983.0   \n",
       "211   2425  Global Awards Token    GAT  global-awards-token     NaN   \n",
       "\n",
       "     displayTV  is_active     first_historical_data      last_historical_data  \\\n",
       "209          1          1  2021-03-07T05:15:00.000Z  2022-10-28T09:55:00.000Z   \n",
       "210          1          1  2021-07-19T09:42:02.000Z  2022-10-28T09:57:00.000Z   \n",
       "211          1          0  2018-01-20T00:29:26.000Z  2020-07-07T23:59:06.000Z   \n",
       "\n",
       "     platform.id platform.name platform.symbol platform.slug  \\\n",
       "209          NaN           NaN             NaN           NaN   \n",
       "210       1839.0           BNB             BNB           bnb   \n",
       "211       1027.0      Ethereum             ETH      ethereum   \n",
       "\n",
       "                         platform.token_address  platform  \n",
       "209                                         NaN       NaN  \n",
       "210  0xF315cfC8550F6FcA969D397cA8b807C5033fA122       NaN  \n",
       "211  0x687174f8c49ceb7729d925c3a961507ea4ac7b28       NaN  "
      ]
     },
     "execution_count": 50,
     "metadata": {},
     "output_type": "execute_result"
    }
   ],
   "source": [
    "cmc_active.loc[cmc_active['symbol']=='GAT']"
   ]
  },
  {
   "cell_type": "code",
   "execution_count": 102,
   "metadata": {},
   "outputs": [
    {
     "data": {
      "text/plain": [
       "(269, 22)"
      ]
     },
     "execution_count": 102,
     "metadata": {},
     "output_type": "execute_result"
    }
   ],
   "source": [
    "df = data_with_status.drop_duplicates('ticker_symbol_cmc', keep='first')\n",
    "df.shape"
   ]
  },
  {
   "cell_type": "code",
   "execution_count": 103,
   "metadata": {},
   "outputs": [
    {
     "data": {
      "text/plain": [
       "1    192\n",
       "0     77\n",
       "Name: is_active, dtype: int64"
      ]
     },
     "execution_count": 103,
     "metadata": {},
     "output_type": "execute_result"
    }
   ],
   "source": [
    "# Probably going to fix this imbalance later...\n",
    "\n",
    "df['is_active'].value_counts()"
   ]
  },
  {
   "cell_type": "code",
   "execution_count": null,
   "metadata": {},
   "outputs": [],
   "source": [
    "# After cross-checking, this dataset looks correct. \n",
    "\n",
    "df[df['is_active']==0]"
   ]
  },
  {
   "cell_type": "code",
   "execution_count": null,
   "metadata": {},
   "outputs": [],
   "source": [
    "df = df.drop('symbol', axis=1)"
   ]
  },
  {
   "cell_type": "code",
   "execution_count": null,
   "metadata": {},
   "outputs": [],
   "source": [
    "df = df.reset_index(drop=True)"
   ]
  },
  {
   "cell_type": "code",
   "execution_count": 138,
   "metadata": {},
   "outputs": [],
   "source": [
    "# Replacing column names\n",
    "\n",
    "cols = []\n",
    "for i in range(len(df.columns)):\n",
    "    cols.append(df.columns[i].lower().replace(' ','_'))\n",
    "df.columns = cols"
   ]
  },
  {
   "cell_type": "code",
   "execution_count": null,
   "metadata": {},
   "outputs": [],
   "source": [
    "# Setting a checkpoint before cleaning the data since this is a complicated API-matching dataset...\n",
    "\n",
    "df.to_csv('data_to_clean.csv')"
   ]
  },
  {
   "cell_type": "markdown",
   "metadata": {},
   "source": [
    "# Cleaning the columns in my final dataset"
   ]
  },
  {
   "cell_type": "code",
   "execution_count": 202,
   "metadata": {},
   "outputs": [],
   "source": [
    "data_to_clean = pd.read_csv('data_to_clean.csv', index_col=0)"
   ]
  },
  {
   "cell_type": "code",
   "execution_count": 203,
   "metadata": {},
   "outputs": [],
   "source": [
    "data_to_clean = data_to_clean.reset_index(drop=True)"
   ]
  },
  {
   "cell_type": "code",
   "execution_count": 141,
   "metadata": {},
   "outputs": [
    {
     "data": {
      "text/plain": [
       "(269, 21)"
      ]
     },
     "execution_count": 141,
     "metadata": {},
     "output_type": "execute_result"
    }
   ],
   "source": [
    "data_to_clean.shape"
   ]
  },
  {
   "cell_type": "code",
   "execution_count": 204,
   "metadata": {},
   "outputs": [
    {
     "data": {
      "text/html": [
       "<div>\n",
       "<style scoped>\n",
       "    .dataframe tbody tr th:only-of-type {\n",
       "        vertical-align: middle;\n",
       "    }\n",
       "\n",
       "    .dataframe tbody tr th {\n",
       "        vertical-align: top;\n",
       "    }\n",
       "\n",
       "    .dataframe thead th {\n",
       "        text-align: right;\n",
       "    }\n",
       "</style>\n",
       "<table border=\"1\" class=\"dataframe\">\n",
       "  <thead>\n",
       "    <tr style=\"text-align: right;\">\n",
       "      <th></th>\n",
       "      <th>header_name</th>\n",
       "      <th>percent_nulls</th>\n",
       "    </tr>\n",
       "  </thead>\n",
       "  <tbody>\n",
       "  </tbody>\n",
       "</table>\n",
       "</div>"
      ],
      "text/plain": [
       "Empty DataFrame\n",
       "Columns: [header_name, percent_nulls]\n",
       "Index: []"
      ]
     },
     "execution_count": 204,
     "metadata": {},
     "output_type": "execute_result"
    }
   ],
   "source": [
    " # To see the percentage of null values in a column - none above 10% so I think we can clean this up manually\n",
    "\n",
    "nulls_df = pd.DataFrame(round(data_to_clean.isna().sum()/len(data_to_clean),4)*100)\n",
    "nulls_df = nulls_df.reset_index()\n",
    "nulls_df.columns = ['header_name', 'percent_nulls']\n",
    "nulls_df\n",
    "\n",
    "percent_nulls = nulls_df[nulls_df['percent_nulls']>10]\n",
    "percent_nulls"
   ]
  },
  {
   "cell_type": "code",
   "execution_count": 86,
   "metadata": {},
   "outputs": [
    {
     "data": {
      "text/plain": [
       "name_other                                      0\n",
       "name_cmc                                        0\n",
       "ticker_symbol_cmc                               0\n",
       "token_type                                      0\n",
       "vc_support_blockchain_specialist                0\n",
       "vc_support_general                              0\n",
       "registration_country                            0\n",
       "legal_structure                                 0\n",
       "industry                                        0\n",
       "celebrity_endorsement                           0\n",
       "ico_successful                                  0\n",
       "investors_have_governance_rights                0\n",
       "kyc/aml_procedure                               0\n",
       "legal_form_and_jurisdiction_known               0\n",
       "length_of_crowdsale_(calendar_days,_actual)     0\n",
       "team_size                                      20\n",
       "time_to_listing_(calendar_days)                 1\n",
       "total_amount_raised_(usdm)                     21\n",
       "use_of_proceeds_mentioned                       0\n",
       "whitepaper_page_count                           4\n",
       "is_active                                       0\n",
       "dtype: int64"
      ]
     },
     "execution_count": 86,
     "metadata": {},
     "output_type": "execute_result"
    }
   ],
   "source": [
    "# I've kept only those columns I can clean well without losing too many rows (since we have a very small dataset)\n",
    "\n",
    "data_to_clean.isna().sum()"
   ]
  },
  {
   "cell_type": "code",
   "execution_count": null,
   "metadata": {},
   "outputs": [],
   "source": [
    "data_to_clean.describe().T"
   ]
  },
  {
   "cell_type": "code",
   "execution_count": 205,
   "metadata": {},
   "outputs": [],
   "source": [
    "# Filling NaNs in the numerical columns (with median values)\n",
    "\n",
    "data_to_clean['team_size'] = data_to_clean['team_size'].fillna(data_to_clean['team_size'].median())\n",
    "data_to_clean['time_to_listing_(calendar_days)'] = data_to_clean['time_to_listing_(calendar_days)'].fillna(data_to_clean['time_to_listing_(calendar_days)'].median())\n",
    "data_to_clean['total_amount_raised_(usdm)'] = data_to_clean['total_amount_raised_(usdm)'].fillna(data_to_clean['total_amount_raised_(usdm)'].median())\n",
    "data_to_clean['whitepaper_page_count'] = data_to_clean['whitepaper_page_count'].fillna(data_to_clean['whitepaper_page_count'].median())"
   ]
  },
  {
   "cell_type": "code",
   "execution_count": null,
   "metadata": {},
   "outputs": [],
   "source": [
    "# Success. Now to fix the categoricals\n",
    "\n",
    "data_to_clean.isna().sum()"
   ]
  },
  {
   "cell_type": "code",
   "execution_count": null,
   "metadata": {},
   "outputs": [],
   "source": [
    "# I want to convert these to count of VCs supporting and collapse into one category for a full count of 'vc support'\n",
    "\n",
    "data_to_clean['vc_support_blockchain_specialist'].value_counts()\t\n",
    "data_to_clean['vc_support_general'].value_counts()"
   ]
  },
  {
   "cell_type": "code",
   "execution_count": 206,
   "metadata": {},
   "outputs": [
    {
     "name": "stderr",
     "output_type": "stream",
     "text": [
      "/var/folders/kp/1thpb47s3s540gy9cm49qr740000gn/T/ipykernel_49393/2016725481.py:2: SettingWithCopyWarning: \n",
      "A value is trying to be set on a copy of a slice from a DataFrame\n",
      "\n",
      "See the caveats in the documentation: https://pandas.pydata.org/pandas-docs/stable/user_guide/indexing.html#returning-a-view-versus-a-copy\n",
      "  data_to_clean['vc_support_general'][i] = 0 if data_to_clean['vc_support_general'][i] == 'No' or data_to_clean['vc_support_general'][i] == 'No ' else data_to_clean['vc_support_general'][i]\n"
     ]
    }
   ],
   "source": [
    "for i in range(len(data_to_clean['vc_support_general'])):\n",
    "    data_to_clean['vc_support_general'][i] = 0 if data_to_clean['vc_support_general'][i] == 'No' or data_to_clean['vc_support_general'][i] == 'No ' else data_to_clean['vc_support_general'][i]"
   ]
  },
  {
   "cell_type": "code",
   "execution_count": null,
   "metadata": {},
   "outputs": [],
   "source": [
    "data_to_clean['vc_support_general'].value_counts()"
   ]
  },
  {
   "cell_type": "code",
   "execution_count": 208,
   "metadata": {},
   "outputs": [
    {
     "name": "stderr",
     "output_type": "stream",
     "text": [
      "/var/folders/kp/1thpb47s3s540gy9cm49qr740000gn/T/ipykernel_49393/4016594257.py:2: SettingWithCopyWarning: \n",
      "A value is trying to be set on a copy of a slice from a DataFrame\n",
      "\n",
      "See the caveats in the documentation: https://pandas.pydata.org/pandas-docs/stable/user_guide/indexing.html#returning-a-view-versus-a-copy\n",
      "  data_to_clean['vc_support_blockchain_specialist'][i] = 0 if data_to_clean['vc_support_blockchain_specialist'][i] == 'No' or data_to_clean['vc_support_blockchain_specialist'][i] == 'No ' else data_to_clean['vc_support_blockchain_specialist'][i]\n"
     ]
    }
   ],
   "source": [
    "for i in range(len(data_to_clean['vc_support_blockchain_specialist'])):\n",
    "    data_to_clean['vc_support_blockchain_specialist'][i] = 0 if data_to_clean['vc_support_blockchain_specialist'][i] == 'No' or data_to_clean['vc_support_blockchain_specialist'][i] == 'No ' else data_to_clean['vc_support_blockchain_specialist'][i]"
   ]
  },
  {
   "cell_type": "code",
   "execution_count": null,
   "metadata": {},
   "outputs": [],
   "source": [
    "data_to_clean['vc_support_blockchain_specialist'].value_counts()"
   ]
  },
  {
   "cell_type": "code",
   "execution_count": 209,
   "metadata": {},
   "outputs": [],
   "source": [
    "data_to_clean['vc_count_int'] = data_to_clean['vc_support_general'].str.split(';')"
   ]
  },
  {
   "cell_type": "code",
   "execution_count": 210,
   "metadata": {},
   "outputs": [],
   "source": [
    "data_to_clean['vc_count_int'].fillna(0, inplace=True)"
   ]
  },
  {
   "cell_type": "code",
   "execution_count": 211,
   "metadata": {},
   "outputs": [],
   "source": [
    "empty_list = []\n",
    "\n",
    "for i in data_to_clean['vc_count_int']:\n",
    "    if i == 0:\n",
    "        empty_list.append(0)\n",
    "    elif len(i)>0:\n",
    "        empty_list.append(len(i))"
   ]
  },
  {
   "cell_type": "code",
   "execution_count": 212,
   "metadata": {},
   "outputs": [],
   "source": [
    "data_to_clean['vc_count_general'] = empty_list"
   ]
  },
  {
   "cell_type": "code",
   "execution_count": 213,
   "metadata": {},
   "outputs": [
    {
     "data": {
      "text/plain": [
       "0    229\n",
       "1     17\n",
       "2      8\n",
       "3      6\n",
       "4      4\n",
       "5      3\n",
       "6      1\n",
       "8      1\n",
       "Name: vc_count_general, dtype: int64"
      ]
     },
     "execution_count": 213,
     "metadata": {},
     "output_type": "execute_result"
    }
   ],
   "source": [
    "data_to_clean['vc_count_general'].value_counts()"
   ]
  },
  {
   "cell_type": "code",
   "execution_count": 214,
   "metadata": {},
   "outputs": [],
   "source": [
    "data_to_clean['vc_count_int_2'] = data_to_clean['vc_support_blockchain_specialist'].str.split(';')"
   ]
  },
  {
   "cell_type": "code",
   "execution_count": 216,
   "metadata": {},
   "outputs": [],
   "source": [
    "data_to_clean['vc_count_int_2'].fillna(0, inplace=True)"
   ]
  },
  {
   "cell_type": "code",
   "execution_count": 217,
   "metadata": {},
   "outputs": [],
   "source": [
    "empty_list_2 = []\n",
    "\n",
    "for i in data_to_clean['vc_count_int_2']:\n",
    "    if i == 0:\n",
    "        empty_list_2.append(0)\n",
    "    elif len(i)>0:\n",
    "        empty_list_2.append(len(i))"
   ]
  },
  {
   "cell_type": "code",
   "execution_count": 218,
   "metadata": {},
   "outputs": [],
   "source": [
    "data_to_clean['vc_count_specialist'] = empty_list_2"
   ]
  },
  {
   "cell_type": "code",
   "execution_count": 219,
   "metadata": {},
   "outputs": [
    {
     "data": {
      "text/plain": [
       "0    223\n",
       "1     25\n",
       "2     10\n",
       "3      7\n",
       "4      2\n",
       "8      2\n",
       "Name: vc_count_specialist, dtype: int64"
      ]
     },
     "execution_count": 219,
     "metadata": {},
     "output_type": "execute_result"
    }
   ],
   "source": [
    "data_to_clean['vc_count_specialist'].value_counts()"
   ]
  },
  {
   "cell_type": "code",
   "execution_count": 220,
   "metadata": {},
   "outputs": [],
   "source": [
    "data_to_clean['vc_count'] = data_to_clean['vc_count_general'] + data_to_clean['vc_count_specialist']"
   ]
  },
  {
   "cell_type": "code",
   "execution_count": null,
   "metadata": {},
   "outputs": [],
   "source": [
    "data_to_clean['vc_count'].value_counts()"
   ]
  },
  {
   "cell_type": "code",
   "execution_count": null,
   "metadata": {},
   "outputs": [],
   "source": [
    "# Confirming the new 'vc count' columns is correct (thanks, Ferreira)\n",
    "\n",
    "data_to_clean.head(20)"
   ]
  },
  {
   "cell_type": "code",
   "execution_count": 234,
   "metadata": {},
   "outputs": [
    {
     "data": {
      "text/plain": [
       "9"
      ]
     },
     "execution_count": 234,
     "metadata": {},
     "output_type": "execute_result"
    }
   ],
   "source": [
    "# Collapse registration country into 10 categories (everything else in the 'other' category)\n",
    "\n",
    "len(data_to_clean['registration_country'].unique())"
   ]
  },
  {
   "cell_type": "code",
   "execution_count": 199,
   "metadata": {},
   "outputs": [
    {
     "data": {
      "text/plain": [
       "Singapore                           44\n",
       "Switzerland                         38\n",
       "United States                       37\n",
       "Cayman Islands                      23\n",
       "United Kingdom                      16\n",
       "unknown                             15\n",
       "Gibraltar                           15\n",
       "Estonia                             13\n",
       "Hong Kong                           11\n",
       "British Virgin Islands               9\n",
       "Netherlands                          5\n",
       "Australia                            5\n",
       "Liechtenstein                        3\n",
       "Canada                               3\n",
       "Germany                              3\n",
       "France                               3\n",
       "Slovenia                             3\n",
       "Mauritius                            2\n",
       "Russian Federation                   2\n",
       "Israel                               2\n",
       "Costa Rica                           2\n",
       "Lithuania                            2\n",
       "Isle of Man                          2\n",
       "South Africa                         1\n",
       "Marshall Islands                     1\n",
       "Luxembourg                           1\n",
       "Saint Vincent and the Grenadines     1\n",
       "Ireland                              1\n",
       "Seychelles                           1\n",
       "Japan                                1\n",
       "Romania                              1\n",
       "Malta                                1\n",
       "Bermuda                              1\n",
       "Belize                               1\n",
       "Name: registration_country, dtype: int64"
      ]
     },
     "execution_count": 199,
     "metadata": {},
     "output_type": "execute_result"
    }
   ],
   "source": [
    "data_to_clean['registration_country'].value_counts()"
   ]
  },
  {
   "cell_type": "code",
   "execution_count": 232,
   "metadata": {},
   "outputs": [],
   "source": [
    "# Function to collapse countries with fewer than 10 frequency\n",
    "\n",
    "df_collapse_country = pd.DataFrame(data_to_clean['registration_country'].value_counts()).reset_index()\n",
    "\n",
    "df_collapse_country.columns = ['country', 'count']\n",
    "other_countries = list(df_collapse_country[df_collapse_country['count']<10]['country'])\n",
    "\n",
    "def clean_country(x):\n",
    "    if x in other_countries:\n",
    "        return 'other'\n",
    "    elif x=='unknown':\n",
    "        return 'other'\n",
    "    else:\n",
    "        return x\n",
    "    \n",
    "data_to_clean['registration_country'] = list(map(clean_country, data_to_clean['registration_country']))"
   ]
  },
  {
   "cell_type": "code",
   "execution_count": 233,
   "metadata": {},
   "outputs": [
    {
     "data": {
      "text/plain": [
       "other             72\n",
       "Singapore         44\n",
       "Switzerland       38\n",
       "United States     37\n",
       "Cayman Islands    23\n",
       "United Kingdom    16\n",
       "Gibraltar         15\n",
       "Estonia           13\n",
       "Hong Kong         11\n",
       "Name: registration_country, dtype: int64"
      ]
     },
     "execution_count": 233,
     "metadata": {},
     "output_type": "execute_result"
    }
   ],
   "source": [
    "# Success\n",
    "\n",
    "data_to_clean['registration_country'].value_counts()"
   ]
  },
  {
   "cell_type": "code",
   "execution_count": 240,
   "metadata": {},
   "outputs": [],
   "source": [
    "# Merge unknown and other into one category for the 'legal_structure' column\n",
    "\n",
    "data_to_clean['legal_structure'].unique()\n",
    "\n",
    "data_to_clean['legal_structure'] = data_to_clean['legal_structure'].str.lower()"
   ]
  },
  {
   "cell_type": "code",
   "execution_count": 241,
   "metadata": {},
   "outputs": [
    {
     "name": "stderr",
     "output_type": "stream",
     "text": [
      "/var/folders/kp/1thpb47s3s540gy9cm49qr740000gn/T/ipykernel_49393/3304833623.py:1: SettingWithCopyWarning: \n",
      "A value is trying to be set on a copy of a slice from a DataFrame\n",
      "\n",
      "See the caveats in the documentation: https://pandas.pydata.org/pandas-docs/stable/user_guide/indexing.html#returning-a-view-versus-a-copy\n",
      "  data_to_clean['legal_structure'].loc[data_to_clean['legal_structure'].isin(['unknown','other'])] = \"other\"\n"
     ]
    },
    {
     "data": {
      "text/plain": [
       "joint-stock corporation          180\n",
       "limited liability partnership     36\n",
       "other                             34\n",
       "foundation                        19\n",
       "Name: legal_structure, dtype: int64"
      ]
     },
     "execution_count": 241,
     "metadata": {},
     "output_type": "execute_result"
    }
   ],
   "source": [
    "data_to_clean['legal_structure'].loc[data_to_clean['legal_structure'].isin(['unknown','other'])] = \"other\"\n",
    "\n",
    "need = data_to_clean['legal_structure'].value_counts().index[:5]\n",
    "\n",
    "data_to_clean['legal_structure'] = np.where(data_to_clean['legal_structure'].isin(need), data_to_clean['legal_structure'], 'other')\n",
    "\n",
    "data_to_clean['legal_structure'].value_counts(dropna=False)"
   ]
  },
  {
   "cell_type": "code",
   "execution_count": 167,
   "metadata": {},
   "outputs": [
    {
     "data": {
      "text/plain": [
       "32"
      ]
     },
     "execution_count": 167,
     "metadata": {},
     "output_type": "execute_result"
    }
   ],
   "source": [
    "# Leaving this category as is because I can't collapse it easily and don't want ordinals\n",
    "\n",
    "len(data_to_clean['industry'].unique())"
   ]
  },
  {
   "cell_type": "code",
   "execution_count": 229,
   "metadata": {},
   "outputs": [
    {
     "data": {
      "text/plain": [
       "5"
      ]
     },
     "execution_count": 229,
     "metadata": {},
     "output_type": "execute_result"
    }
   ],
   "source": [
    "# This category 'token_type' is also fine with only 5 unique values\n",
    "\n",
    "len(data_to_clean['token_type'].unique())"
   ]
  },
  {
   "cell_type": "code",
   "execution_count": 230,
   "metadata": {},
   "outputs": [
    {
     "data": {
      "text/plain": [
       "Utility-token     168\n",
       "Security           52\n",
       "Cryptocurrency     26\n",
       "New Blockchain     19\n",
       "unknown             4\n",
       "Name: token_type, dtype: int64"
      ]
     },
     "execution_count": 230,
     "metadata": {},
     "output_type": "execute_result"
    }
   ],
   "source": [
    "data_to_clean['token_type'].value_counts()"
   ]
  },
  {
   "cell_type": "code",
   "execution_count": 260,
   "metadata": {},
   "outputs": [],
   "source": [
    "data_to_clean['ico_successful'] = data_to_clean['ico_successful'].astype(int)\n",
    "data_to_clean['team_size'] = data_to_clean['team_size'].astype(int)"
   ]
  },
  {
   "cell_type": "code",
   "execution_count": 271,
   "metadata": {},
   "outputs": [],
   "source": [
    "# Dropping columns that will not go into the prediction models\n",
    "\n",
    "drop_list = data_to_clean[['name_cmc','name_other','ticker_symbol_cmc', 'vc_support_blockchain_specialist','vc_support_general', 'vc_count_general', 'vc_count_specialist', 'vc_count_int', 'vc_count_int_2']]"
   ]
  },
  {
   "cell_type": "code",
   "execution_count": 272,
   "metadata": {},
   "outputs": [],
   "source": [
    "data_post_clean = data_to_clean.drop(columns=drop_list)"
   ]
  },
  {
   "cell_type": "code",
   "execution_count": 273,
   "metadata": {},
   "outputs": [
    {
     "data": {
      "text/html": [
       "<div>\n",
       "<style scoped>\n",
       "    .dataframe tbody tr th:only-of-type {\n",
       "        vertical-align: middle;\n",
       "    }\n",
       "\n",
       "    .dataframe tbody tr th {\n",
       "        vertical-align: top;\n",
       "    }\n",
       "\n",
       "    .dataframe thead th {\n",
       "        text-align: right;\n",
       "    }\n",
       "</style>\n",
       "<table border=\"1\" class=\"dataframe\">\n",
       "  <thead>\n",
       "    <tr style=\"text-align: right;\">\n",
       "      <th></th>\n",
       "      <th>token_type</th>\n",
       "      <th>registration_country</th>\n",
       "      <th>legal_structure</th>\n",
       "      <th>industry</th>\n",
       "      <th>celebrity_endorsement</th>\n",
       "      <th>ico_successful</th>\n",
       "      <th>investors_have_governance_rights</th>\n",
       "      <th>kyc/aml_procedure</th>\n",
       "      <th>legal_form_and_jurisdiction_known</th>\n",
       "      <th>length_of_crowdsale_(calendar_days,_actual)</th>\n",
       "      <th>team_size</th>\n",
       "      <th>time_to_listing_(calendar_days)</th>\n",
       "      <th>total_amount_raised_(usdm)</th>\n",
       "      <th>use_of_proceeds_mentioned</th>\n",
       "      <th>whitepaper_page_count</th>\n",
       "      <th>is_active</th>\n",
       "      <th>vc_count</th>\n",
       "    </tr>\n",
       "  </thead>\n",
       "  <tbody>\n",
       "    <tr>\n",
       "      <th>0</th>\n",
       "      <td>Utility-token</td>\n",
       "      <td>Cayman Islands</td>\n",
       "      <td>joint-stock corporation</td>\n",
       "      <td>Trading &amp; Exchanges</td>\n",
       "      <td>0</td>\n",
       "      <td>1</td>\n",
       "      <td>0</td>\n",
       "      <td>1</td>\n",
       "      <td>1</td>\n",
       "      <td>2</td>\n",
       "      <td>12</td>\n",
       "      <td>0.0</td>\n",
       "      <td>26.0</td>\n",
       "      <td>0</td>\n",
       "      <td>16.0</td>\n",
       "      <td>1</td>\n",
       "      <td>4</td>\n",
       "    </tr>\n",
       "    <tr>\n",
       "      <th>1</th>\n",
       "      <td>New Blockchain</td>\n",
       "      <td>Singapore</td>\n",
       "      <td>foundation</td>\n",
       "      <td>Blockchain Infrastructure</td>\n",
       "      <td>0</td>\n",
       "      <td>1</td>\n",
       "      <td>0</td>\n",
       "      <td>0</td>\n",
       "      <td>1</td>\n",
       "      <td>1</td>\n",
       "      <td>17</td>\n",
       "      <td>51.0</td>\n",
       "      <td>8.0</td>\n",
       "      <td>0</td>\n",
       "      <td>18.0</td>\n",
       "      <td>1</td>\n",
       "      <td>0</td>\n",
       "    </tr>\n",
       "    <tr>\n",
       "      <th>2</th>\n",
       "      <td>Utility-token</td>\n",
       "      <td>other</td>\n",
       "      <td>other</td>\n",
       "      <td>Commerce &amp; Advertising</td>\n",
       "      <td>0</td>\n",
       "      <td>1</td>\n",
       "      <td>0</td>\n",
       "      <td>1</td>\n",
       "      <td>0</td>\n",
       "      <td>24</td>\n",
       "      <td>21</td>\n",
       "      <td>28.0</td>\n",
       "      <td>10.0</td>\n",
       "      <td>1</td>\n",
       "      <td>56.0</td>\n",
       "      <td>1</td>\n",
       "      <td>0</td>\n",
       "    </tr>\n",
       "    <tr>\n",
       "      <th>3</th>\n",
       "      <td>Security</td>\n",
       "      <td>other</td>\n",
       "      <td>joint-stock corporation</td>\n",
       "      <td>Finance</td>\n",
       "      <td>0</td>\n",
       "      <td>0</td>\n",
       "      <td>1</td>\n",
       "      <td>1</td>\n",
       "      <td>1</td>\n",
       "      <td>31</td>\n",
       "      <td>9</td>\n",
       "      <td>16.0</td>\n",
       "      <td>1.0</td>\n",
       "      <td>0</td>\n",
       "      <td>11.0</td>\n",
       "      <td>0</td>\n",
       "      <td>0</td>\n",
       "    </tr>\n",
       "    <tr>\n",
       "      <th>4</th>\n",
       "      <td>Utility-token</td>\n",
       "      <td>Estonia</td>\n",
       "      <td>joint-stock corporation</td>\n",
       "      <td>Commerce &amp; Advertising</td>\n",
       "      <td>0</td>\n",
       "      <td>1</td>\n",
       "      <td>0</td>\n",
       "      <td>0</td>\n",
       "      <td>1</td>\n",
       "      <td>1</td>\n",
       "      <td>6</td>\n",
       "      <td>1.0</td>\n",
       "      <td>14.0</td>\n",
       "      <td>1</td>\n",
       "      <td>33.0</td>\n",
       "      <td>1</td>\n",
       "      <td>0</td>\n",
       "    </tr>\n",
       "    <tr>\n",
       "      <th>...</th>\n",
       "      <td>...</td>\n",
       "      <td>...</td>\n",
       "      <td>...</td>\n",
       "      <td>...</td>\n",
       "      <td>...</td>\n",
       "      <td>...</td>\n",
       "      <td>...</td>\n",
       "      <td>...</td>\n",
       "      <td>...</td>\n",
       "      <td>...</td>\n",
       "      <td>...</td>\n",
       "      <td>...</td>\n",
       "      <td>...</td>\n",
       "      <td>...</td>\n",
       "      <td>...</td>\n",
       "      <td>...</td>\n",
       "      <td>...</td>\n",
       "    </tr>\n",
       "    <tr>\n",
       "      <th>264</th>\n",
       "      <td>Utility-token</td>\n",
       "      <td>United States</td>\n",
       "      <td>joint-stock corporation</td>\n",
       "      <td>Finance</td>\n",
       "      <td>0</td>\n",
       "      <td>1</td>\n",
       "      <td>0</td>\n",
       "      <td>0</td>\n",
       "      <td>1</td>\n",
       "      <td>42</td>\n",
       "      <td>11</td>\n",
       "      <td>8.0</td>\n",
       "      <td>5.0</td>\n",
       "      <td>1</td>\n",
       "      <td>40.0</td>\n",
       "      <td>1</td>\n",
       "      <td>0</td>\n",
       "    </tr>\n",
       "    <tr>\n",
       "      <th>265</th>\n",
       "      <td>Security</td>\n",
       "      <td>Switzerland</td>\n",
       "      <td>foundation</td>\n",
       "      <td>Finance</td>\n",
       "      <td>0</td>\n",
       "      <td>1</td>\n",
       "      <td>0</td>\n",
       "      <td>0</td>\n",
       "      <td>1</td>\n",
       "      <td>50</td>\n",
       "      <td>12</td>\n",
       "      <td>5.0</td>\n",
       "      <td>2.0</td>\n",
       "      <td>0</td>\n",
       "      <td>21.0</td>\n",
       "      <td>1</td>\n",
       "      <td>0</td>\n",
       "    </tr>\n",
       "    <tr>\n",
       "      <th>266</th>\n",
       "      <td>unknown</td>\n",
       "      <td>other</td>\n",
       "      <td>other</td>\n",
       "      <td>Events &amp; Entertainment</td>\n",
       "      <td>0</td>\n",
       "      <td>1</td>\n",
       "      <td>0</td>\n",
       "      <td>0</td>\n",
       "      <td>0</td>\n",
       "      <td>24</td>\n",
       "      <td>5</td>\n",
       "      <td>20.0</td>\n",
       "      <td>10.0</td>\n",
       "      <td>0</td>\n",
       "      <td>27.0</td>\n",
       "      <td>1</td>\n",
       "      <td>0</td>\n",
       "    </tr>\n",
       "    <tr>\n",
       "      <th>267</th>\n",
       "      <td>Security</td>\n",
       "      <td>other</td>\n",
       "      <td>other</td>\n",
       "      <td>Commodities</td>\n",
       "      <td>0</td>\n",
       "      <td>1</td>\n",
       "      <td>0</td>\n",
       "      <td>0</td>\n",
       "      <td>0</td>\n",
       "      <td>1</td>\n",
       "      <td>9</td>\n",
       "      <td>4.0</td>\n",
       "      <td>0.0</td>\n",
       "      <td>0</td>\n",
       "      <td>19.0</td>\n",
       "      <td>0</td>\n",
       "      <td>0</td>\n",
       "    </tr>\n",
       "    <tr>\n",
       "      <th>268</th>\n",
       "      <td>Security</td>\n",
       "      <td>other</td>\n",
       "      <td>limited liability partnership</td>\n",
       "      <td>Commodities</td>\n",
       "      <td>0</td>\n",
       "      <td>1</td>\n",
       "      <td>0</td>\n",
       "      <td>0</td>\n",
       "      <td>1</td>\n",
       "      <td>30</td>\n",
       "      <td>6</td>\n",
       "      <td>7.0</td>\n",
       "      <td>10.0</td>\n",
       "      <td>1</td>\n",
       "      <td>22.0</td>\n",
       "      <td>0</td>\n",
       "      <td>0</td>\n",
       "    </tr>\n",
       "  </tbody>\n",
       "</table>\n",
       "<p>269 rows × 17 columns</p>\n",
       "</div>"
      ],
      "text/plain": [
       "         token_type registration_country                legal_structure  \\\n",
       "0     Utility-token       Cayman Islands        joint-stock corporation   \n",
       "1    New Blockchain            Singapore                     foundation   \n",
       "2     Utility-token                other                          other   \n",
       "3          Security                other        joint-stock corporation   \n",
       "4     Utility-token              Estonia        joint-stock corporation   \n",
       "..              ...                  ...                            ...   \n",
       "264   Utility-token        United States        joint-stock corporation   \n",
       "265        Security          Switzerland                     foundation   \n",
       "266         unknown                other                          other   \n",
       "267        Security                other                          other   \n",
       "268        Security                other  limited liability partnership   \n",
       "\n",
       "                      industry  celebrity_endorsement  ico_successful  \\\n",
       "0          Trading & Exchanges                      0               1   \n",
       "1    Blockchain Infrastructure                      0               1   \n",
       "2       Commerce & Advertising                      0               1   \n",
       "3                      Finance                      0               0   \n",
       "4       Commerce & Advertising                      0               1   \n",
       "..                         ...                    ...             ...   \n",
       "264                    Finance                      0               1   \n",
       "265                    Finance                      0               1   \n",
       "266     Events & Entertainment                      0               1   \n",
       "267                Commodities                      0               1   \n",
       "268                Commodities                      0               1   \n",
       "\n",
       "     investors_have_governance_rights  kyc/aml_procedure  \\\n",
       "0                                   0                  1   \n",
       "1                                   0                  0   \n",
       "2                                   0                  1   \n",
       "3                                   1                  1   \n",
       "4                                   0                  0   \n",
       "..                                ...                ...   \n",
       "264                                 0                  0   \n",
       "265                                 0                  0   \n",
       "266                                 0                  0   \n",
       "267                                 0                  0   \n",
       "268                                 0                  0   \n",
       "\n",
       "     legal_form_and_jurisdiction_known  \\\n",
       "0                                    1   \n",
       "1                                    1   \n",
       "2                                    0   \n",
       "3                                    1   \n",
       "4                                    1   \n",
       "..                                 ...   \n",
       "264                                  1   \n",
       "265                                  1   \n",
       "266                                  0   \n",
       "267                                  0   \n",
       "268                                  1   \n",
       "\n",
       "     length_of_crowdsale_(calendar_days,_actual)  team_size  \\\n",
       "0                                              2         12   \n",
       "1                                              1         17   \n",
       "2                                             24         21   \n",
       "3                                             31          9   \n",
       "4                                              1          6   \n",
       "..                                           ...        ...   \n",
       "264                                           42         11   \n",
       "265                                           50         12   \n",
       "266                                           24          5   \n",
       "267                                            1          9   \n",
       "268                                           30          6   \n",
       "\n",
       "     time_to_listing_(calendar_days)  total_amount_raised_(usdm)  \\\n",
       "0                                0.0                        26.0   \n",
       "1                               51.0                         8.0   \n",
       "2                               28.0                        10.0   \n",
       "3                               16.0                         1.0   \n",
       "4                                1.0                        14.0   \n",
       "..                               ...                         ...   \n",
       "264                              8.0                         5.0   \n",
       "265                              5.0                         2.0   \n",
       "266                             20.0                        10.0   \n",
       "267                              4.0                         0.0   \n",
       "268                              7.0                        10.0   \n",
       "\n",
       "     use_of_proceeds_mentioned  whitepaper_page_count  is_active  vc_count  \n",
       "0                            0                   16.0          1         4  \n",
       "1                            0                   18.0          1         0  \n",
       "2                            1                   56.0          1         0  \n",
       "3                            0                   11.0          0         0  \n",
       "4                            1                   33.0          1         0  \n",
       "..                         ...                    ...        ...       ...  \n",
       "264                          1                   40.0          1         0  \n",
       "265                          0                   21.0          1         0  \n",
       "266                          0                   27.0          1         0  \n",
       "267                          0                   19.0          0         0  \n",
       "268                          1                   22.0          0         0  \n",
       "\n",
       "[269 rows x 17 columns]"
      ]
     },
     "execution_count": 273,
     "metadata": {},
     "output_type": "execute_result"
    }
   ],
   "source": [
    "data_post_clean"
   ]
  },
  {
   "cell_type": "code",
   "execution_count": 472,
   "metadata": {},
   "outputs": [
    {
     "data": {
      "image/png": "[encoded data removed]",
      "text/plain": [
       "<Figure size 1080x576 with 2 Axes>"
      ]
     },
     "metadata": {},
     "output_type": "display_data"
    }
   ],
   "source": [
    "# Before train-test split, looking at the variable correlations\n",
    "# Pretty solid results -- low multicollinearity between my variables!\n",
    "\n",
    "correlations_matrix = data_post_clean.corr()\n",
    "sns.set(rc = {'figure.figsize':(15,8)})\n",
    "sns.heatmap(correlations_matrix, annot=True, cmap='mako_r')\n",
    "plt.show()"
   ]
  },
  {
   "cell_type": "code",
   "execution_count": 274,
   "metadata": {},
   "outputs": [],
   "source": [
    "#  Making another checkpoint\n",
    "\n",
    "data_post_clean.to_csv('data_post_clean.csv')"
   ]
  },
  {
   "cell_type": "markdown",
   "metadata": {},
   "source": [
    "## Model pre-processing"
   ]
  },
  {
   "cell_type": "code",
   "execution_count": 3,
   "metadata": {},
   "outputs": [],
   "source": [
    "from sklearn.preprocessing import MinMaxScaler, OneHotEncoder, StandardScaler\n",
    "from sklearn.model_selection import train_test_split"
   ]
  },
  {
   "cell_type": "code",
   "execution_count": 4,
   "metadata": {},
   "outputs": [],
   "source": [
    "data_for_processing = pd.read_csv('data_post_clean.csv', index_col=0)"
   ]
  },
  {
   "cell_type": "code",
   "execution_count": 277,
   "metadata": {},
   "outputs": [
    {
     "data": {
      "text/plain": [
       "token_type                                      object\n",
       "registration_country                            object\n",
       "legal_structure                                 object\n",
       "industry                                        object\n",
       "celebrity_endorsement                            int64\n",
       "ico_successful                                   int64\n",
       "investors_have_governance_rights                 int64\n",
       "kyc/aml_procedure                                int64\n",
       "legal_form_and_jurisdiction_known                int64\n",
       "length_of_crowdsale_(calendar_days,_actual)      int64\n",
       "team_size                                        int64\n",
       "time_to_listing_(calendar_days)                float64\n",
       "total_amount_raised_(usdm)                     float64\n",
       "use_of_proceeds_mentioned                        int64\n",
       "whitepaper_page_count                          float64\n",
       "is_active                                        int64\n",
       "vc_count                                         int64\n",
       "dtype: object"
      ]
     },
     "execution_count": 277,
     "metadata": {},
     "output_type": "execute_result"
    }
   ],
   "source": [
    "data_for_processing.dtypes"
   ]
  },
  {
   "cell_type": "code",
   "execution_count": 5,
   "metadata": {},
   "outputs": [],
   "source": [
    "data_cat = ['token_type','registration_country','legal_structure','industry', 'vc_count']\n",
    "\n",
    "data_dummy = ['celebrity_endorsement', 'ico_successful', 'investors_have_governance_rights', 'kyc/aml_procedure', 'legal_form_and_jurisdiction_known', 'use_of_proceeds_mentioned']\n",
    "\n",
    "data_num = ['length_of_crowdsale_(calendar_days,_actual)', 'team_size', 'time_to_listing_(calendar_days)', 'total_amount_raised_(usdm)', 'whitepaper_page_count']"
   ]
  },
  {
   "cell_type": "code",
   "execution_count": 6,
   "metadata": {},
   "outputs": [],
   "source": [
    "def X_y_split(X,y):\n",
    "    ## Split the data into a training set and a test set.\n",
    "    X_train, X_test, y_train, y_test = train_test_split(X, y, test_size=0.25)\n",
    "    print(X_train.shape)\n",
    "    print(X_test.shape)\n",
    "    print(y_train.shape)\n",
    "    print(y_test.shape)\n",
    "\n",
    "    # split numericals - categoricals\n",
    "    X_train_num = X_train[data_num]\n",
    "    X_test_num = X_test[data_num]\n",
    "    \n",
    "    X_train_cat = X_train[data_cat]\n",
    "    X_test_cat = X_test[data_cat]\n",
    "    \n",
    "    ## Scale the features either by using normalizer or a standard scaler.\n",
    "        \n",
    "    # fit and transform scaling numericals\n",
    "    minmax = MinMaxScaler().fit(X_train_num) \n",
    "    \n",
    "    X_train_norm = minmax.transform(X_train_num)\n",
    "    X_test_norm = minmax.transform(X_test_num)\n",
    "\n",
    "    # convert to dataframe again\n",
    "    X_train_norm = pd.DataFrame(X_train_norm,columns=X_train_num.columns).reset_index(drop=True)\n",
    "    X_test_norm = pd.DataFrame(X_test_norm,columns=X_test_num.columns).reset_index(drop=True)\n",
    "    \n",
    "    ## Encode the categorical features using One-Hot Encoding\n",
    "    \n",
    "    X_train_cat = X_train_cat.astype(str)\n",
    "    X_test_cat = X_test_cat.astype(str)\n",
    "    \n",
    "    # fit and transform encoding categoricals\n",
    "    onehot = OneHotEncoder(drop='first', handle_unknown='ignore').fit(X_train_cat) \n",
    "    \n",
    "    cols = onehot.get_feature_names_out(input_features=X_train_cat.columns)\n",
    "\n",
    "    X_train_enc = onehot.transform(X_train_cat).toarray()\n",
    "    X_test_enc = onehot.transform(X_test_cat).toarray()\n",
    "    \n",
    "    # convert to dataframe again\n",
    "    X_train_enc = pd.DataFrame(X_train_enc, columns=cols).reset_index(drop=True)\n",
    "    X_test_enc = pd.DataFrame(X_test_enc, columns=cols).reset_index(drop=True)\n",
    "    \n",
    "    # ready to fit the model\n",
    "\n",
    "    data_dummy_train = X_train[data_dummy].reset_index(drop=True)\n",
    "    data_dummy_test = X_test[data_dummy].reset_index(drop=True)\n",
    "\n",
    "    X_train_ready = pd.concat([X_train_norm,X_train_enc,data_dummy_train],axis=1)\n",
    "    X_test_ready = pd.concat([X_test_norm,X_test_enc,data_dummy_test],axis=1)\n",
    "    \n",
    "    return X_train_ready, X_test_ready, y_train, y_test"
   ]
  },
  {
   "cell_type": "code",
   "execution_count": 7,
   "metadata": {},
   "outputs": [
    {
     "name": "stdout",
     "output_type": "stream",
     "text": [
      "(201, 16)\n",
      "(68, 16)\n",
      "(201, 1)\n",
      "(68, 1)\n"
     ]
    }
   ],
   "source": [
    "X = data_for_processing.drop(['is_active'], axis=1)\n",
    "y = data_for_processing[['is_active']]\n",
    "\n",
    "X_train_ready, X_test_ready, y_train, y_test = X_y_split(X,y)"
   ]
  },
  {
   "cell_type": "code",
   "execution_count": 8,
   "metadata": {},
   "outputs": [
    {
     "data": {
      "text/html": [
       "<div>\n",
       "<style scoped>\n",
       "    .dataframe tbody tr th:only-of-type {\n",
       "        vertical-align: middle;\n",
       "    }\n",
       "\n",
       "    .dataframe tbody tr th {\n",
       "        vertical-align: top;\n",
       "    }\n",
       "\n",
       "    .dataframe thead th {\n",
       "        text-align: right;\n",
       "    }\n",
       "</style>\n",
       "<table border=\"1\" class=\"dataframe\">\n",
       "  <thead>\n",
       "    <tr style=\"text-align: right;\">\n",
       "      <th></th>\n",
       "      <th>count</th>\n",
       "      <th>mean</th>\n",
       "      <th>std</th>\n",
       "      <th>min</th>\n",
       "      <th>25%</th>\n",
       "      <th>50%</th>\n",
       "      <th>75%</th>\n",
       "      <th>max</th>\n",
       "    </tr>\n",
       "  </thead>\n",
       "  <tbody>\n",
       "    <tr>\n",
       "      <th>length_of_crowdsale_(calendar_days,_actual)</th>\n",
       "      <td>201.0</td>\n",
       "      <td>0.172065</td>\n",
       "      <td>0.141986</td>\n",
       "      <td>0.0</td>\n",
       "      <td>0.047619</td>\n",
       "      <td>0.190476</td>\n",
       "      <td>0.217687</td>\n",
       "      <td>1.0</td>\n",
       "    </tr>\n",
       "    <tr>\n",
       "      <th>team_size</th>\n",
       "      <td>201.0</td>\n",
       "      <td>0.191759</td>\n",
       "      <td>0.167980</td>\n",
       "      <td>0.0</td>\n",
       "      <td>0.086957</td>\n",
       "      <td>0.152174</td>\n",
       "      <td>0.217391</td>\n",
       "      <td>1.0</td>\n",
       "    </tr>\n",
       "    <tr>\n",
       "      <th>time_to_listing_(calendar_days)</th>\n",
       "      <td>201.0</td>\n",
       "      <td>0.723386</td>\n",
       "      <td>0.069215</td>\n",
       "      <td>0.0</td>\n",
       "      <td>0.705007</td>\n",
       "      <td>0.717185</td>\n",
       "      <td>0.736130</td>\n",
       "      <td>1.0</td>\n",
       "    </tr>\n",
       "    <tr>\n",
       "      <th>total_amount_raised_(usdm)</th>\n",
       "      <td>201.0</td>\n",
       "      <td>0.100769</td>\n",
       "      <td>0.134852</td>\n",
       "      <td>0.0</td>\n",
       "      <td>0.036364</td>\n",
       "      <td>0.068182</td>\n",
       "      <td>0.118182</td>\n",
       "      <td>1.0</td>\n",
       "    </tr>\n",
       "    <tr>\n",
       "      <th>whitepaper_page_count</th>\n",
       "      <td>201.0</td>\n",
       "      <td>0.240020</td>\n",
       "      <td>0.138310</td>\n",
       "      <td>0.0</td>\n",
       "      <td>0.149606</td>\n",
       "      <td>0.212598</td>\n",
       "      <td>0.299213</td>\n",
       "      <td>1.0</td>\n",
       "    </tr>\n",
       "    <tr>\n",
       "      <th>...</th>\n",
       "      <td>...</td>\n",
       "      <td>...</td>\n",
       "      <td>...</td>\n",
       "      <td>...</td>\n",
       "      <td>...</td>\n",
       "      <td>...</td>\n",
       "      <td>...</td>\n",
       "      <td>...</td>\n",
       "    </tr>\n",
       "    <tr>\n",
       "      <th>ico_successful</th>\n",
       "      <td>201.0</td>\n",
       "      <td>0.995025</td>\n",
       "      <td>0.070535</td>\n",
       "      <td>0.0</td>\n",
       "      <td>1.000000</td>\n",
       "      <td>1.000000</td>\n",
       "      <td>1.000000</td>\n",
       "      <td>1.0</td>\n",
       "    </tr>\n",
       "    <tr>\n",
       "      <th>investors_have_governance_rights</th>\n",
       "      <td>201.0</td>\n",
       "      <td>0.194030</td>\n",
       "      <td>0.396439</td>\n",
       "      <td>0.0</td>\n",
       "      <td>0.000000</td>\n",
       "      <td>0.000000</td>\n",
       "      <td>0.000000</td>\n",
       "      <td>1.0</td>\n",
       "    </tr>\n",
       "    <tr>\n",
       "      <th>kyc/aml_procedure</th>\n",
       "      <td>201.0</td>\n",
       "      <td>0.467662</td>\n",
       "      <td>0.500199</td>\n",
       "      <td>0.0</td>\n",
       "      <td>0.000000</td>\n",
       "      <td>0.000000</td>\n",
       "      <td>1.000000</td>\n",
       "      <td>1.0</td>\n",
       "    </tr>\n",
       "    <tr>\n",
       "      <th>legal_form_and_jurisdiction_known</th>\n",
       "      <td>201.0</td>\n",
       "      <td>0.880597</td>\n",
       "      <td>0.325072</td>\n",
       "      <td>0.0</td>\n",
       "      <td>1.000000</td>\n",
       "      <td>1.000000</td>\n",
       "      <td>1.000000</td>\n",
       "      <td>1.0</td>\n",
       "    </tr>\n",
       "    <tr>\n",
       "      <th>use_of_proceeds_mentioned</th>\n",
       "      <td>201.0</td>\n",
       "      <td>0.711443</td>\n",
       "      <td>0.454223</td>\n",
       "      <td>0.0</td>\n",
       "      <td>0.000000</td>\n",
       "      <td>1.000000</td>\n",
       "      <td>1.000000</td>\n",
       "      <td>1.0</td>\n",
       "    </tr>\n",
       "  </tbody>\n",
       "</table>\n",
       "<p>67 rows × 8 columns</p>\n",
       "</div>"
      ],
      "text/plain": [
       "                                             count      mean       std  min  \\\n",
       "length_of_crowdsale_(calendar_days,_actual)  201.0  0.172065  0.141986  0.0   \n",
       "team_size                                    201.0  0.191759  0.167980  0.0   \n",
       "time_to_listing_(calendar_days)              201.0  0.723386  0.069215  0.0   \n",
       "total_amount_raised_(usdm)                   201.0  0.100769  0.134852  0.0   \n",
       "whitepaper_page_count                        201.0  0.240020  0.138310  0.0   \n",
       "...                                            ...       ...       ...  ...   \n",
       "ico_successful                               201.0  0.995025  0.070535  0.0   \n",
       "investors_have_governance_rights             201.0  0.194030  0.396439  0.0   \n",
       "kyc/aml_procedure                            201.0  0.467662  0.500199  0.0   \n",
       "legal_form_and_jurisdiction_known            201.0  0.880597  0.325072  0.0   \n",
       "use_of_proceeds_mentioned                    201.0  0.711443  0.454223  0.0   \n",
       "\n",
       "                                                  25%       50%       75%  max  \n",
       "length_of_crowdsale_(calendar_days,_actual)  0.047619  0.190476  0.217687  1.0  \n",
       "team_size                                    0.086957  0.152174  0.217391  1.0  \n",
       "time_to_listing_(calendar_days)              0.705007  0.717185  0.736130  1.0  \n",
       "total_amount_raised_(usdm)                   0.036364  0.068182  0.118182  1.0  \n",
       "whitepaper_page_count                        0.149606  0.212598  0.299213  1.0  \n",
       "...                                               ...       ...       ...  ...  \n",
       "ico_successful                               1.000000  1.000000  1.000000  1.0  \n",
       "investors_have_governance_rights             0.000000  0.000000  0.000000  1.0  \n",
       "kyc/aml_procedure                            0.000000  0.000000  1.000000  1.0  \n",
       "legal_form_and_jurisdiction_known            1.000000  1.000000  1.000000  1.0  \n",
       "use_of_proceeds_mentioned                    0.000000  1.000000  1.000000  1.0  \n",
       "\n",
       "[67 rows x 8 columns]"
      ]
     },
     "execution_count": 8,
     "metadata": {},
     "output_type": "execute_result"
    }
   ],
   "source": [
    "# Confirming the scaler worked - success\n",
    "\n",
    "X_train_ready.describe().T"
   ]
  },
  {
   "cell_type": "markdown",
   "metadata": {},
   "source": [
    "## Adjusting unbalanced data in the training data target with SMOTE oversampling"
   ]
  },
  {
   "cell_type": "code",
   "execution_count": 95,
   "metadata": {},
   "outputs": [],
   "source": [
    "from imblearn.over_sampling import SMOTE"
   ]
  },
  {
   "cell_type": "code",
   "execution_count": 10,
   "metadata": {},
   "outputs": [],
   "source": [
    "sm = SMOTE(random_state=69, k_neighbors=3)\n",
    "X_train_SMOTE,y_train_SMOTE = sm.fit_resample(X_train_ready,y_train)"
   ]
  },
  {
   "cell_type": "code",
   "execution_count": 439,
   "metadata": {},
   "outputs": [
    {
     "data": {
      "text/plain": [
       "(286, 1)"
      ]
     },
     "execution_count": 439,
     "metadata": {},
     "output_type": "execute_result"
    }
   ],
   "source": [
    "y_train_SMOTE.shape"
   ]
  },
  {
   "cell_type": "markdown",
   "metadata": {},
   "source": [
    "## Applying different classification models"
   ]
  },
  {
   "cell_type": "code",
   "execution_count": 11,
   "metadata": {},
   "outputs": [],
   "source": [
    "from sklearn.tree import DecisionTreeRegressor, DecisionTreeClassifier\n",
    "from sklearn.linear_model import LinearRegression, LogisticRegression, SGDRegressor\n",
    "from sklearn.neighbors import KNeighborsRegressor, KNeighborsClassifier\n",
    "from sklearn.ensemble import RandomForestRegressor, RandomForestClassifier\n",
    "from sklearn.svm import SVR\n",
    "from sklearn.model_selection import cross_validate"
   ]
  },
  {
   "cell_type": "code",
   "execution_count": 12,
   "metadata": {},
   "outputs": [],
   "source": [
    "def models_automation(models, X_tr, y_tr, X_te, y_te):\n",
    "    for model in models:\n",
    "        model.fit(X_tr, y_tr)\n",
    "        print(f\"{model.__class__.__name__}: Train -> {model.score(X_tr, y_tr)}, Test -> {model.score(X_te, y_te)}\")"
   ]
  },
  {
   "cell_type": "code",
   "execution_count": 13,
   "metadata": {},
   "outputs": [
    {
     "name": "stdout",
     "output_type": "stream",
     "text": [
      "LogisticRegression: Train -> 0.7512437810945274, Test -> 0.6470588235294118\n",
      "RandomForestClassifier: Train -> 1.0, Test -> 0.7058823529411765\n",
      "DecisionTreeClassifier: Train -> 1.0, Test -> 0.7205882352941176\n",
      "KNeighborsClassifier: Train -> 0.7512437810945274, Test -> 0.6176470588235294\n"
     ]
    }
   ],
   "source": [
    "# Without SMOTE (RFC and DTC are overfitting but not doing parameter / feature optimization here anyway)\n",
    "\n",
    "models = [LogisticRegression(), RandomForestClassifier(), DecisionTreeClassifier(), KNeighborsClassifier()]\n",
    "\n",
    "models_automation(models, X_train_ready, y_train, X_test_ready, y_test)"
   ]
  },
  {
   "cell_type": "code",
   "execution_count": 14,
   "metadata": {},
   "outputs": [
    {
     "name": "stdout",
     "output_type": "stream",
     "text": [
      "LogisticRegression: Train -> 0.7673611111111112, Test -> 0.5735294117647058\n",
      "RandomForestClassifier: Train -> 1.0, Test -> 0.6617647058823529\n",
      "DecisionTreeClassifier: Train -> 1.0, Test -> 0.6617647058823529\n",
      "KNeighborsClassifier: Train -> 0.7743055555555556, Test -> 0.5147058823529411\n"
     ]
    }
   ],
   "source": [
    "# With SMOTE -- The results are worse!\n",
    "\n",
    "models = [LogisticRegression(), RandomForestClassifier(), DecisionTreeClassifier(), KNeighborsClassifier()]\n",
    "\n",
    "models_automation(models, X_train_SMOTE, y_train_SMOTE, X_test_ready, y_test)"
   ]
  },
  {
   "cell_type": "markdown",
   "metadata": {},
   "source": [
    "## Evaluating / scoring models"
   ]
  },
  {
   "cell_type": "code",
   "execution_count": 15,
   "metadata": {},
   "outputs": [],
   "source": [
    "from sklearn.metrics import plot_confusion_matrix\n",
    "from sklearn.svm import SVC\n",
    "from sklearn.metrics import precision_score\n",
    "from sklearn.metrics import recall_score\n",
    "from sklearn.metrics import f1_score\n",
    "\n",
    "from sklearn.metrics import mean_squared_error, r2_score"
   ]
  },
  {
   "cell_type": "code",
   "execution_count": 16,
   "metadata": {},
   "outputs": [],
   "source": [
    "SVC(random_state=69)\n",
    "\n",
    "CLF = LogisticRegression()\n",
    "CLF.fit(X_train_SMOTE, y_train_SMOTE)\n",
    "pred = CLF.predict(X_test_ready)"
   ]
  },
  {
   "cell_type": "code",
   "execution_count": 17,
   "metadata": {},
   "outputs": [
    {
     "name": "stdout",
     "output_type": "stream",
     "text": [
      "precision:  0.7317073170731707\n",
      "recall:  0.625\n",
      "f1:  0.6741573033707865\n"
     ]
    }
   ],
   "source": [
    "print(\"precision: \",precision_score(y_test,pred))\n",
    "print(\"recall: \",recall_score(y_test,pred))\n",
    "print(\"f1: \",f1_score(y_test,pred))"
   ]
  },
  {
   "cell_type": "code",
   "execution_count": 47,
   "metadata": {},
   "outputs": [
    {
     "data": {
      "image/png": "[encoded data removed]",
      "text/plain": [
       "<Figure size 432x288 with 2 Axes>"
      ]
     },
     "metadata": {
      "needs_background": "light"
     },
     "output_type": "display_data"
    }
   ],
   "source": [
    "# Given how small my training dataset is, this result is not shocking. \n",
    "# Since I am more interested in feature significance, I am ignoring this in the discussion of results \n",
    "\n",
    "SVC(random_state=69)\n",
    "# plt.grid(b=None)\n",
    "plot_confusion_matrix(CLF, X_test_ready, y_test)  \n",
    "plt.show()"
   ]
  },
  {
   "cell_type": "markdown",
   "metadata": {},
   "source": [
    "# Looking at feature coefficients for p-values in classification model"
   ]
  },
  {
   "cell_type": "code",
   "execution_count": 21,
   "metadata": {},
   "outputs": [],
   "source": [
    "import statsmodels.api as sm"
   ]
  },
  {
   "cell_type": "code",
   "execution_count": 86,
   "metadata": {},
   "outputs": [],
   "source": [
    "data_for_clf = pd.read_csv('data_post_clean.csv', index_col=0)"
   ]
  },
  {
   "cell_type": "code",
   "execution_count": 87,
   "metadata": {},
   "outputs": [],
   "source": [
    "data_cat = ['token_type','registration_country','legal_structure','industry', 'vc_count']\n",
    "\n",
    "data_dummy = ['celebrity_endorsement', 'ico_successful', 'investors_have_governance_rights', 'kyc/aml_procedure', 'legal_form_and_jurisdiction_known', 'use_of_proceeds_mentioned']\n",
    "\n",
    "data_num = ['length_of_crowdsale_(calendar_days,_actual)', 'team_size', 'time_to_listing_(calendar_days)', 'whitepaper_page_count', 'total_amount_raised_(usdm)']"
   ]
  },
  {
   "cell_type": "code",
   "execution_count": null,
   "metadata": {},
   "outputs": [],
   "source": [
    "# I've made a new function here because I don't want to train-test split my data for this"
   ]
  },
  {
   "cell_type": "code",
   "execution_count": 88,
   "metadata": {},
   "outputs": [],
   "source": [
    "def clean_features(X):\n",
    "\n",
    "    # split numericals & categoricals\n",
    "    X_num = X[data_num]\n",
    "    X_cat = X[data_cat]\n",
    "\n",
    "    ## Scale the features either by using normalizer or a standard scaler.\n",
    "        \n",
    "    # fit and transform scaling numericals\n",
    "    minmax = MinMaxScaler().fit(X_num) \n",
    "    X_norm = minmax.transform(X_num)\n",
    "\n",
    "    # convert to dataframe again\n",
    "    X_norm = pd.DataFrame(X_norm,columns=X_num.columns).reset_index(drop=True)\n",
    "    \n",
    "    ## Encode the categorical features using One-Hot Encoding\n",
    "    \n",
    "    X_cat = X_cat.astype(str)\n",
    "\n",
    "    # fit and transform encoding categoricals\n",
    "    onehot = OneHotEncoder(drop='first', handle_unknown='ignore').fit(X_cat) \n",
    "    \n",
    "    cols = onehot.get_feature_names_out(input_features=X_cat.columns)\n",
    "\n",
    "    X_enc = onehot.transform(X_cat).toarray()\n",
    "    \n",
    "    # convert to dataframe again\n",
    "    X_enc = pd.DataFrame(X_enc, columns=cols).reset_index(drop=True)\n",
    "    \n",
    "    # ready to fit the model\n",
    "\n",
    "    data_dummy_added = X[data_dummy].reset_index(drop=True)\n",
    "    X = pd.concat([X_norm,X_enc,data_dummy_added],axis=1)\n",
    "    \n",
    "    return X"
   ]
  },
  {
   "cell_type": "code",
   "execution_count": 89,
   "metadata": {},
   "outputs": [],
   "source": [
    "X_clf_to_process = data_for_clf.drop(['is_active'], axis=1)\n",
    "y_clf = data_for_clf[['is_active']]\n",
    "\n",
    "X_clf = clean_features(X_clf_to_process)"
   ]
  },
  {
   "cell_type": "code",
   "execution_count": 90,
   "metadata": {},
   "outputs": [],
   "source": [
    "y_clf = y_clf.reset_index(drop=True)"
   ]
  },
  {
   "cell_type": "code",
   "execution_count": 96,
   "metadata": {},
   "outputs": [],
   "source": [
    "# Re-smoting my target labels\n",
    "\n",
    "smote = SMOTE(random_state=69, k_neighbors=3)\n",
    "X_clf,y_clf = smote.fit_resample(X_clf,y_clf)"
   ]
  },
  {
   "cell_type": "code",
   "execution_count": 111,
   "metadata": {},
   "outputs": [
    {
     "name": "stdout",
     "output_type": "stream",
     "text": [
      "(384, 67)\n"
     ]
    },
    {
     "data": {
      "text/plain": [
       "(384, 1)"
      ]
     },
     "execution_count": 111,
     "metadata": {},
     "output_type": "execute_result"
    }
   ],
   "source": [
    "print(X_clf.shape)\n",
    "y_clf.shape"
   ]
  },
  {
   "cell_type": "code",
   "execution_count": 120,
   "metadata": {},
   "outputs": [
    {
     "name": "stdout",
     "output_type": "stream",
     "text": [
      "Warning: Maximum number of iterations has been exceeded.\n",
      "         Current function value: 0.523423\n",
      "         Iterations: 35\n",
      "         Function evaluations: 36\n",
      "         Gradient evaluations: 36\n"
     ]
    },
    {
     "name": "stderr",
     "output_type": "stream",
     "text": [
      "/opt/anaconda3/lib/python3.9/site-packages/statsmodels/base/model.py:604: ConvergenceWarning: Maximum Likelihood optimization failed to converge. Check mle_retvals\n",
      "  warnings.warn(\"Maximum Likelihood optimization failed to \"\n"
     ]
    }
   ],
   "source": [
    "X_added_constant_clf = sm.add_constant(X_clf)\n",
    "model_clf = sm.Logit(y_clf, X_added_constant_clf).fit(method='bfgs')\n",
    "pred_clf = round(model_clf.predict(X_added_constant_clf))"
   ]
  },
  {
   "cell_type": "code",
   "execution_count": 122,
   "metadata": {},
   "outputs": [
    {
     "name": "stdout",
     "output_type": "stream",
     "text": [
      "                           Logit Regression Results                           \n",
      "==============================================================================\n",
      "Dep. Variable:              is_active   No. Observations:                  384\n",
      "Model:                          Logit   Df Residuals:                      316\n",
      "Method:                           MLE   Df Model:                           67\n",
      "Date:                Thu, 03 Nov 2022   Pseudo R-squ.:                  0.2449\n",
      "Time:                        12:27:37   Log-Likelihood:                -200.99\n",
      "converged:                      False   LL-Null:                       -266.17\n",
      "Covariance Type:            nonrobust   LLR p-value:                 5.795e-06\n",
      "=================================================================================================================\n",
      "                                                    coef    std err          z      P>|z|      [0.025      0.975]\n",
      "-----------------------------------------------------------------------------------------------------------------\n",
      "const                                             0.9918      4.188      0.237      0.813      -7.216       9.200\n",
      "length_of_crowdsale_(calendar_days,_actual)      -3.1773      1.138     -2.793      0.005      -5.407      -0.947\n",
      "team_size                                         0.3174      1.539      0.206      0.837      -2.700       3.334\n",
      "time_to_listing_(calendar_days)                  -1.8789      2.725     -0.690      0.490      -7.219       3.461\n",
      "whitepaper_page_count                             0.6597      1.202      0.549      0.583      -1.696       3.015\n",
      "total_amount_raised_(usdm)                        1.6014      1.733      0.924      0.355      -1.795       4.998\n",
      "token_type_New Blockchain                        -0.4835      0.885     -0.546      0.585      -2.219       1.252\n",
      "token_type_Security                              -0.0444      0.643     -0.069      0.945      -1.304       1.215\n",
      "token_type_Utility-token                          0.6867      0.549      1.250      0.211      -0.390       1.763\n",
      "token_type_unknown                                1.0229      1.633      0.626      0.531      -2.177       4.223\n",
      "registration_country_Estonia                     -0.4127      0.856     -0.482      0.630      -2.090       1.265\n",
      "registration_country_Gibraltar                    0.8101      0.948      0.854      0.393      -1.048       2.668\n",
      "registration_country_Hong Kong                    0.6796      1.028      0.661      0.508      -1.335       2.694\n",
      "registration_country_Singapore                   -0.5001      0.666     -0.751      0.452      -1.805       0.805\n",
      "registration_country_Switzerland                 -1.9603      0.685     -2.861      0.004      -3.303      -0.617\n",
      "registration_country_United Kingdom              -1.0104      0.821     -1.231      0.218      -2.620       0.599\n",
      "registration_country_United States               -0.7565      0.706     -1.071      0.284      -2.141       0.628\n",
      "registration_country_other                       -1.4180      0.636     -2.231      0.026      -2.664      -0.172\n",
      "legal_structure_joint-stock corporation          -0.9820      0.747     -1.314      0.189      -2.447       0.483\n",
      "legal_structure_limited liability partnership    -1.3483      0.799     -1.687      0.092      -2.915       0.218\n",
      "legal_structure_other                            -0.2481      1.492     -0.166      0.868      -3.171       2.675\n",
      "industry_Art & Music                             -0.5576      3.112     -0.179      0.858      -6.658       5.543\n",
      "industry_Blockchain Infrastructure                1.3191      2.765      0.477      0.633      -4.100       6.738\n",
      "industry_Charity                                  0.7871      3.475      0.227      0.821      -6.023       7.598\n",
      "industry_Cloud Computing                          1.4919      3.323      0.449      0.653      -5.020       8.004\n",
      "industry_Commerce & Advertising                  -1.4180      2.755     -0.515      0.607      -6.818       3.982\n",
      "industry_Commodities                             -1.3979      3.281     -0.426      0.670      -7.829       5.034\n",
      "industry_Communications                           0.5659      2.771      0.204      0.838      -4.865       5.997\n",
      "industry_Content Management                      -1.0606      2.803     -0.378      0.705      -6.555       4.433\n",
      "industry_Cryptocurrency Mining                   -1.3951      3.080     -0.453      0.651      -7.431       4.641\n",
      "industry_Data Analytics                          -1.2750      2.849     -0.448      0.654      -6.858       4.308\n",
      "industry_Data Storage                             0.3596      6.252      0.058      0.954     -11.893      12.613\n",
      "industry_Drugs & Healthcare                       2.5087      3.086      0.813      0.416      -3.540       8.558\n",
      "industry_Energy & Utilities                       0.0456      2.862      0.016      0.987      -5.563       5.655\n",
      "industry_Events & Entertainment                   0.9372      2.806      0.334      0.738      -4.562       6.437\n",
      "industry_Finance                                 -0.2317      2.680     -0.086      0.931      -5.485       5.021\n",
      "industry_Gambling & Betting                      -0.4433      2.766     -0.160      0.873      -5.865       4.979\n",
      "industry_Health                                   0.3616      3.942      0.092      0.927      -7.364       8.088\n",
      "industry_Identity & Reputation                    0.0926      3.400      0.027      0.978      -6.571       6.756\n",
      "industry_Insurance                               -0.1303      2.929     -0.044      0.965      -5.871       5.610\n",
      "industry_Legal                                    0.7047      3.486      0.202      0.840      -6.128       7.538\n",
      "industry_Marketplaces                             1.0144      2.808      0.361      0.718      -4.489       6.518\n",
      "industry_Online-learning                         -1.8468      3.400     -0.543      0.587      -8.510       4.817\n",
      "industry_Payments                                 1.4207      2.744      0.518      0.605      -3.958       6.799\n",
      "industry_Privacy & Security                       0.2225      2.801      0.079      0.937      -5.268       5.713\n",
      "industry_Provenance & Notary                      0.7462      2.892      0.258      0.796      -4.923       6.415\n",
      "industry_Real Estate                              1.8934      2.905      0.652      0.515      -3.801       7.588\n",
      "industry_Search                                  -0.4023      2.974     -0.135      0.892      -6.231       5.426\n",
      "industry_Social Networks                         -0.4360      2.774     -0.157      0.875      -5.873       5.001\n",
      "industry_Trading & Exchanges                      0.5013      2.697      0.186      0.853      -4.786       5.788\n",
      "industry_Travel & Tourisim                       -1.6974      3.595     -0.472      0.637      -8.744       5.349\n",
      "industry_Video Games & VR                        -1.0948      2.741     -0.399      0.690      -6.468       4.278\n",
      "vc_count_1                                        0.0384      0.502      0.077      0.939      -0.945       1.022\n",
      "vc_count_11                                       0.3568      3.312      0.108      0.914      -6.134       6.848\n",
      "vc_count_2                                        2.7740      1.190      2.331      0.020       0.442       5.106\n",
      "vc_count_3                                        2.0883      1.339      1.559      0.119      -0.537       4.713\n",
      "vc_count_4                                        1.6614      2.171      0.765      0.444      -2.593       5.916\n",
      "vc_count_5                                        1.4934      2.062      0.724      0.469      -2.548       5.535\n",
      "vc_count_6                                        0.9491      2.610      0.364      0.716      -4.166       6.064\n",
      "vc_count_7                                       -0.7161      3.238     -0.221      0.825      -7.062       5.630\n",
      "vc_count_8                                        0.9195      2.786      0.330      0.741      -4.541       6.380\n",
      "vc_count_9                                        0.5666      3.359      0.169      0.866      -6.017       7.150\n",
      "celebrity_endorsement                            -0.0519      0.830     -0.063      0.950      -1.678       1.574\n",
      "ico_successful                                    0.6925      1.726      0.401      0.688      -2.690       4.075\n",
      "investors_have_governance_rights                  0.1366      0.397      0.344      0.731      -0.642       0.915\n",
      "kyc/aml_procedure                                -0.1682      0.336     -0.500      0.617      -0.827       0.491\n",
      "legal_form_and_jurisdiction_known                 0.9071      1.352      0.671      0.502      -1.743       3.557\n",
      "use_of_proceeds_mentioned                         0.7179      0.322      2.227      0.026       0.086       1.350\n",
      "=================================================================================================================\n"
     ]
    }
   ],
   "source": [
    "print(model_clf.summary())"
   ]
  },
  {
   "cell_type": "code",
   "execution_count": 123,
   "metadata": {},
   "outputs": [],
   "source": [
    "clf_result = pd.DataFrame(model_clf.summary2().tables[1])"
   ]
  },
  {
   "cell_type": "code",
   "execution_count": 124,
   "metadata": {},
   "outputs": [
    {
     "data": {
      "text/plain": [
       "['length_of_crowdsale_(calendar_days,_actual)',\n",
       " 'registration_country_Switzerland',\n",
       " 'registration_country_other',\n",
       " 'vc_count_2',\n",
       " 'use_of_proceeds_mentioned']"
      ]
     },
     "execution_count": 124,
     "metadata": {},
     "output_type": "execute_result"
    }
   ],
   "source": [
    "# Pulling out those variables with p-scores below the 95% confidence threshold\n",
    "\n",
    "significant_features_clf = list(clf_result[clf_result['P>|z|']<=0.05].index)[0:]\n",
    "\n",
    "significant_features_clf"
   ]
  },
  {
   "cell_type": "code",
   "execution_count": 157,
   "metadata": {},
   "outputs": [
    {
     "data": {
      "text/html": [
       "<div>\n",
       "<style scoped>\n",
       "    .dataframe tbody tr th:only-of-type {\n",
       "        vertical-align: middle;\n",
       "    }\n",
       "\n",
       "    .dataframe tbody tr th {\n",
       "        vertical-align: top;\n",
       "    }\n",
       "\n",
       "    .dataframe thead th {\n",
       "        text-align: right;\n",
       "    }\n",
       "</style>\n",
       "<table border=\"1\" class=\"dataframe\">\n",
       "  <thead>\n",
       "    <tr style=\"text-align: right;\">\n",
       "      <th></th>\n",
       "      <th>Coef.</th>\n",
       "      <th>Std.Err.</th>\n",
       "      <th>z</th>\n",
       "      <th>P&gt;|z|</th>\n",
       "      <th>[0.025</th>\n",
       "      <th>0.975]</th>\n",
       "    </tr>\n",
       "  </thead>\n",
       "  <tbody>\n",
       "    <tr>\n",
       "      <th>length_of_crowdsale_(calendar_days,_actual)</th>\n",
       "      <td>-3.177</td>\n",
       "      <td>1.138</td>\n",
       "      <td>-2.793</td>\n",
       "      <td>0.005</td>\n",
       "      <td>-5.407</td>\n",
       "      <td>-0.947</td>\n",
       "    </tr>\n",
       "    <tr>\n",
       "      <th>registration_country_Switzerland</th>\n",
       "      <td>-1.960</td>\n",
       "      <td>0.685</td>\n",
       "      <td>-2.861</td>\n",
       "      <td>0.004</td>\n",
       "      <td>-3.303</td>\n",
       "      <td>-0.617</td>\n",
       "    </tr>\n",
       "    <tr>\n",
       "      <th>registration_country_other</th>\n",
       "      <td>-1.418</td>\n",
       "      <td>0.636</td>\n",
       "      <td>-2.231</td>\n",
       "      <td>0.026</td>\n",
       "      <td>-2.664</td>\n",
       "      <td>-0.172</td>\n",
       "    </tr>\n",
       "    <tr>\n",
       "      <th>vc_count_2</th>\n",
       "      <td>2.774</td>\n",
       "      <td>1.190</td>\n",
       "      <td>2.331</td>\n",
       "      <td>0.020</td>\n",
       "      <td>0.442</td>\n",
       "      <td>5.106</td>\n",
       "    </tr>\n",
       "    <tr>\n",
       "      <th>use_of_proceeds_mentioned</th>\n",
       "      <td>0.718</td>\n",
       "      <td>0.322</td>\n",
       "      <td>2.227</td>\n",
       "      <td>0.026</td>\n",
       "      <td>0.086</td>\n",
       "      <td>1.350</td>\n",
       "    </tr>\n",
       "  </tbody>\n",
       "</table>\n",
       "</div>"
      ],
      "text/plain": [
       "                                             Coef.  Std.Err.      z  P>|z|  \\\n",
       "length_of_crowdsale_(calendar_days,_actual) -3.177     1.138 -2.793  0.005   \n",
       "registration_country_Switzerland            -1.960     0.685 -2.861  0.004   \n",
       "registration_country_other                  -1.418     0.636 -2.231  0.026   \n",
       "vc_count_2                                   2.774     1.190  2.331  0.020   \n",
       "use_of_proceeds_mentioned                    0.718     0.322  2.227  0.026   \n",
       "\n",
       "                                             [0.025  0.975]  \n",
       "length_of_crowdsale_(calendar_days,_actual)  -5.407  -0.947  \n",
       "registration_country_Switzerland             -3.303  -0.617  \n",
       "registration_country_other                   -2.664  -0.172  \n",
       "vc_count_2                                    0.442   5.106  \n",
       "use_of_proceeds_mentioned                     0.086   1.350  "
      ]
     },
     "execution_count": 157,
     "metadata": {},
     "output_type": "execute_result"
    }
   ],
   "source": [
    "significant_features_table = round(clf_result[clf_result['P>|z|']<=0.05], 3)\n",
    "\n",
    "# Now we can see details for each significant variable: \n",
    "\n",
    "significant_features_table"
   ]
  },
  {
   "cell_type": "code",
   "execution_count": 125,
   "metadata": {},
   "outputs": [
    {
     "data": {
      "text/plain": [
       "<AxesSubplot:xlabel='whitepaper_page_count'>"
      ]
     },
     "execution_count": 125,
     "metadata": {},
     "output_type": "execute_result"
    },
    {
     "data": {
      "image/png": "[encoded data removed]",
      "text/plain": [
       "<Figure size 432x288 with 1 Axes>"
      ]
     },
     "metadata": {
      "needs_background": "light"
     },
     "output_type": "display_data"
    }
   ],
   "source": [
    "# Doing some plotting to make sure the regression worked and out of curiousity \n",
    "\n",
    "sns.regplot(x=X_clf['whitepaper_page_count'], y=pred_clf, logistic=True, ci=None, scatter_kws={'color': 'green'}, line_kws={'color': 'orange'})"
   ]
  },
  {
   "cell_type": "code",
   "execution_count": 126,
   "metadata": {},
   "outputs": [
    {
     "data": {
      "text/plain": [
       "<AxesSubplot:xlabel='length_of_crowdsale_(calendar_days,_actual)'>"
      ]
     },
     "execution_count": 126,
     "metadata": {},
     "output_type": "execute_result"
    },
    {
     "data": {
      "image/png": "[encoded data removed]",
      "text/plain": [
       "<Figure size 432x288 with 1 Axes>"
      ]
     },
     "metadata": {
      "needs_background": "light"
     },
     "output_type": "display_data"
    }
   ],
   "source": [
    "sns.regplot(x=X_clf['length_of_crowdsale_(calendar_days,_actual)'], y=pred_clf, logistic=True, ci=None, scatter_kws={'color': 'green'}, line_kws={'color': 'orange'})"
   ]
  },
  {
   "cell_type": "code",
   "execution_count": 148,
   "metadata": {},
   "outputs": [
    {
     "data": {
      "text/plain": [
       "<AxesSubplot:xlabel='registration_country_Switzerland'>"
      ]
     },
     "execution_count": 148,
     "metadata": {},
     "output_type": "execute_result"
    },
    {
     "data": {
      "image/png": "[encoded data removed]",
      "text/plain": [
       "<Figure size 432x288 with 1 Axes>"
      ]
     },
     "metadata": {
      "needs_background": "light"
     },
     "output_type": "display_data"
    }
   ],
   "source": [
    "sns.regplot(x=round(X_clf['registration_country_Switzerland']), y=pred_clf, logistic=True, ci=None, scatter_kws={'color': 'green'}, line_kws={'color': 'orange'})"
   ]
  },
  {
   "cell_type": "code",
   "execution_count": 128,
   "metadata": {},
   "outputs": [
    {
     "data": {
      "text/plain": [
       "<AxesSubplot:xlabel='use_of_proceeds_mentioned'>"
      ]
     },
     "execution_count": 128,
     "metadata": {},
     "output_type": "execute_result"
    },
    {
     "data": {
      "image/png": "[encoded data removed]",
      "text/plain": [
       "<Figure size 432x288 with 1 Axes>"
      ]
     },
     "metadata": {
      "needs_background": "light"
     },
     "output_type": "display_data"
    }
   ],
   "source": [
    "sns.regplot(x=X_clf['use_of_proceeds_mentioned'], y=pred_clf, logistic=True, ci=None, scatter_kws={'color': 'green'}, line_kws={'color': 'orange'})"
   ]
  },
  {
   "cell_type": "code",
   "execution_count": 207,
   "metadata": {},
   "outputs": [
    {
     "data": {
      "text/html": [
       "<div>\n",
       "<style scoped>\n",
       "    .dataframe tbody tr th:only-of-type {\n",
       "        vertical-align: middle;\n",
       "    }\n",
       "\n",
       "    .dataframe tbody tr th {\n",
       "        vertical-align: top;\n",
       "    }\n",
       "\n",
       "    .dataframe thead th {\n",
       "        text-align: right;\n",
       "    }\n",
       "</style>\n",
       "<table border=\"1\" class=\"dataframe\">\n",
       "  <thead>\n",
       "    <tr style=\"text-align: right;\">\n",
       "      <th></th>\n",
       "      <th></th>\n",
       "      <th>dy/dx</th>\n",
       "      <th>std err</th>\n",
       "      <th>z</th>\n",
       "      <th>P&gt;|z|</th>\n",
       "      <th>[0.025</th>\n",
       "      <th>0.975]</th>\n",
       "    </tr>\n",
       "  </thead>\n",
       "  <tbody>\n",
       "    <tr>\n",
       "      <th>1</th>\n",
       "      <td>length_of_crowdsale_(calendar_days,_actual)</td>\n",
       "      <td>-0.5398</td>\n",
       "      <td>0.187</td>\n",
       "      <td>-2.892</td>\n",
       "      <td>0.004</td>\n",
       "      <td>-0.906</td>\n",
       "      <td>-0.174</td>\n",
       "    </tr>\n",
       "    <tr>\n",
       "      <th>2</th>\n",
       "      <td>team_size</td>\n",
       "      <td>0.0539</td>\n",
       "      <td>0.261</td>\n",
       "      <td>0.206</td>\n",
       "      <td>0.837</td>\n",
       "      <td>-0.458</td>\n",
       "      <td>0.566</td>\n",
       "    </tr>\n",
       "    <tr>\n",
       "      <th>3</th>\n",
       "      <td>time_to_listing_(calendar_days)</td>\n",
       "      <td>-0.3192</td>\n",
       "      <td>0.462</td>\n",
       "      <td>-0.691</td>\n",
       "      <td>0.490</td>\n",
       "      <td>-1.225</td>\n",
       "      <td>0.586</td>\n",
       "    </tr>\n",
       "    <tr>\n",
       "      <th>4</th>\n",
       "      <td>whitepaper_page_count</td>\n",
       "      <td>0.1121</td>\n",
       "      <td>0.204</td>\n",
       "      <td>0.550</td>\n",
       "      <td>0.582</td>\n",
       "      <td>-0.287</td>\n",
       "      <td>0.512</td>\n",
       "    </tr>\n",
       "    <tr>\n",
       "      <th>5</th>\n",
       "      <td>total_amount_raised_(usdm)</td>\n",
       "      <td>0.2721</td>\n",
       "      <td>0.293</td>\n",
       "      <td>0.928</td>\n",
       "      <td>0.353</td>\n",
       "      <td>-0.303</td>\n",
       "      <td>0.847</td>\n",
       "    </tr>\n",
       "    <tr>\n",
       "      <th>...</th>\n",
       "      <td>...</td>\n",
       "      <td>...</td>\n",
       "      <td>...</td>\n",
       "      <td>...</td>\n",
       "      <td>...</td>\n",
       "      <td>...</td>\n",
       "      <td>...</td>\n",
       "    </tr>\n",
       "    <tr>\n",
       "      <th>63</th>\n",
       "      <td>ico_successful</td>\n",
       "      <td>0.1176</td>\n",
       "      <td>0.293</td>\n",
       "      <td>0.401</td>\n",
       "      <td>0.688</td>\n",
       "      <td>-0.457</td>\n",
       "      <td>0.692</td>\n",
       "    </tr>\n",
       "    <tr>\n",
       "      <th>64</th>\n",
       "      <td>investors_have_governance_rights</td>\n",
       "      <td>0.0232</td>\n",
       "      <td>0.067</td>\n",
       "      <td>0.344</td>\n",
       "      <td>0.731</td>\n",
       "      <td>-0.109</td>\n",
       "      <td>0.155</td>\n",
       "    </tr>\n",
       "    <tr>\n",
       "      <th>65</th>\n",
       "      <td>kyc/aml_procedure</td>\n",
       "      <td>-0.0286</td>\n",
       "      <td>0.057</td>\n",
       "      <td>-0.501</td>\n",
       "      <td>0.616</td>\n",
       "      <td>-0.140</td>\n",
       "      <td>0.083</td>\n",
       "    </tr>\n",
       "    <tr>\n",
       "      <th>66</th>\n",
       "      <td>legal_form_and_jurisdiction_known</td>\n",
       "      <td>0.1541</td>\n",
       "      <td>0.229</td>\n",
       "      <td>0.672</td>\n",
       "      <td>0.501</td>\n",
       "      <td>-0.295</td>\n",
       "      <td>0.603</td>\n",
       "    </tr>\n",
       "    <tr>\n",
       "      <th>67</th>\n",
       "      <td>use_of_proceeds_mentioned</td>\n",
       "      <td>0.1220</td>\n",
       "      <td>0.053</td>\n",
       "      <td>2.280</td>\n",
       "      <td>0.023</td>\n",
       "      <td>0.017</td>\n",
       "      <td>0.227</td>\n",
       "    </tr>\n",
       "  </tbody>\n",
       "</table>\n",
       "<p>67 rows × 7 columns</p>\n",
       "</div>"
      ],
      "text/plain": [
       "                                                      dy/dx    std err  \\\n",
       "1   length_of_crowdsale_(calendar_days,_actual)     -0.5398      0.187   \n",
       "2                                     team_size      0.0539      0.261   \n",
       "3               time_to_listing_(calendar_days)     -0.3192      0.462   \n",
       "4                         whitepaper_page_count      0.1121      0.204   \n",
       "5                    total_amount_raised_(usdm)      0.2721      0.293   \n",
       "..                                          ...         ...        ...   \n",
       "63                               ico_successful      0.1176      0.293   \n",
       "64             investors_have_governance_rights      0.0232      0.067   \n",
       "65                            kyc/aml_procedure     -0.0286      0.057   \n",
       "66            legal_form_and_jurisdiction_known      0.1541      0.229   \n",
       "67                    use_of_proceeds_mentioned      0.1220      0.053   \n",
       "\n",
       "            z   P>|z|     [0.025     0.975]  \n",
       "1      -2.892   0.004     -0.906     -0.174  \n",
       "2       0.206   0.837     -0.458      0.566  \n",
       "3      -0.691   0.490     -1.225      0.586  \n",
       "4       0.550   0.582     -0.287      0.512  \n",
       "5       0.928   0.353     -0.303      0.847  \n",
       "..        ...     ...        ...        ...  \n",
       "63      0.401   0.688     -0.457      0.692  \n",
       "64      0.344   0.731     -0.109      0.155  \n",
       "65     -0.501   0.616     -0.140      0.083  \n",
       "66      0.672   0.501     -0.295      0.603  \n",
       "67      2.280   0.023      0.017      0.227  \n",
       "\n",
       "[67 rows x 7 columns]"
      ]
     },
     "execution_count": 207,
     "metadata": {},
     "output_type": "execute_result"
    }
   ],
   "source": [
    "# Adding marginal effects so we can understand magnitude of effect with the dy/dx column\n",
    "\n",
    "mfx = model_clf.get_margeff()\n",
    "mfx_model = mfx.summary().tables[1]\n",
    "\n",
    "mfx_model_df = pd.DataFrame(mfx_model)\n",
    "\n",
    "mfx_model_df.rename(columns=mfx_model_df.iloc[0], inplace=True)\n",
    "\n",
    "mfx_model_df.drop(mfx_model_df.index[0], inplace = True)\n",
    "\n",
    "mfx_model_df"
   ]
  },
  {
   "cell_type": "code",
   "execution_count": null,
   "metadata": {},
   "outputs": [],
   "source": [
    "# Exporting this table to CSV so I can grab data for just these variables. Not working when I try via pandas\n",
    "\n",
    "['length_of_crowdsale_(calendar_days,_actual)',\n",
    " 'registration_country_Switzerland',\n",
    " 'registration_country_other',\n",
    " 'vc_count_2',\n",
    " 'use_of_proceeds_mentioned']"
   ]
  },
  {
   "cell_type": "code",
   "execution_count": 214,
   "metadata": {},
   "outputs": [],
   "source": [
    "mfx_model_df.to_csv('mfx_model_df.csv')"
   ]
  },
  {
   "cell_type": "markdown",
   "metadata": {},
   "source": [
    "## Looking at the Decision Tree"
   ]
  },
  {
   "cell_type": "code",
   "execution_count": 208,
   "metadata": {},
   "outputs": [
    {
     "data": {
      "text/html": [
       "<style>#sk-container-id-2 {color: black;background-color: white;}#sk-container-id-2 pre{padding: 0;}#sk-container-id-2 div.sk-toggleable {background-color: white;}#sk-container-id-2 label.sk-toggleable__label {cursor: pointer;display: block;width: 100%;margin-bottom: 0;padding: 0.3em;box-sizing: border-box;text-align: center;}#sk-container-id-2 label.sk-toggleable__label-arrow:before {content: \"▸\";float: left;margin-right: 0.25em;color: #696969;}#sk-container-id-2 label.sk-toggleable__label-arrow:hover:before {color: black;}#sk-container-id-2 div.sk-estimator:hover label.sk-toggleable__label-arrow:before {color: black;}#sk-container-id-2 div.sk-toggleable__content {max-height: 0;max-width: 0;overflow: hidden;text-align: left;background-color: #f0f8ff;}#sk-container-id-2 div.sk-toggleable__content pre {margin: 0.2em;color: black;border-radius: 0.25em;background-color: #f0f8ff;}#sk-container-id-2 input.sk-toggleable__control:checked~div.sk-toggleable__content {max-height: 200px;max-width: 100%;overflow: auto;}#sk-container-id-2 input.sk-toggleable__control:checked~label.sk-toggleable__label-arrow:before {content: \"▾\";}#sk-container-id-2 div.sk-estimator input.sk-toggleable__control:checked~label.sk-toggleable__label {background-color: #d4ebff;}#sk-container-id-2 div.sk-label input.sk-toggleable__control:checked~label.sk-toggleable__label {background-color: #d4ebff;}#sk-container-id-2 input.sk-hidden--visually {border: 0;clip: rect(1px 1px 1px 1px);clip: rect(1px, 1px, 1px, 1px);height: 1px;margin: -1px;overflow: hidden;padding: 0;position: absolute;width: 1px;}#sk-container-id-2 div.sk-estimator {font-family: monospace;background-color: #f0f8ff;border: 1px dotted black;border-radius: 0.25em;box-sizing: border-box;margin-bottom: 0.5em;}#sk-container-id-2 div.sk-estimator:hover {background-color: #d4ebff;}#sk-container-id-2 div.sk-parallel-item::after {content: \"\";width: 100%;border-bottom: 1px solid gray;flex-grow: 1;}#sk-container-id-2 div.sk-label:hover label.sk-toggleable__label {background-color: #d4ebff;}#sk-container-id-2 div.sk-serial::before {content: \"\";position: absolute;border-left: 1px solid gray;box-sizing: border-box;top: 0;bottom: 0;left: 50%;z-index: 0;}#sk-container-id-2 div.sk-serial {display: flex;flex-direction: column;align-items: center;background-color: white;padding-right: 0.2em;padding-left: 0.2em;position: relative;}#sk-container-id-2 div.sk-item {position: relative;z-index: 1;}#sk-container-id-2 div.sk-parallel {display: flex;align-items: stretch;justify-content: center;background-color: white;position: relative;}#sk-container-id-2 div.sk-item::before, #sk-container-id-2 div.sk-parallel-item::before {content: \"\";position: absolute;border-left: 1px solid gray;box-sizing: border-box;top: 0;bottom: 0;left: 50%;z-index: -1;}#sk-container-id-2 div.sk-parallel-item {display: flex;flex-direction: column;z-index: 1;position: relative;background-color: white;}#sk-container-id-2 div.sk-parallel-item:first-child::after {align-self: flex-end;width: 50%;}#sk-container-id-2 div.sk-parallel-item:last-child::after {align-self: flex-start;width: 50%;}#sk-container-id-2 div.sk-parallel-item:only-child::after {width: 0;}#sk-container-id-2 div.sk-dashed-wrapped {border: 1px dashed gray;margin: 0 0.4em 0.5em 0.4em;box-sizing: border-box;padding-bottom: 0.4em;background-color: white;}#sk-container-id-2 div.sk-label label {font-family: monospace;font-weight: bold;display: inline-block;line-height: 1.2em;}#sk-container-id-2 div.sk-label-container {text-align: center;}#sk-container-id-2 div.sk-container {/* jupyter's `normalize.less` sets `[hidden] { display: none; }` but bootstrap.min.css set `[hidden] { display: none !important; }` so we also need the `!important` here to be able to override the default hidden behavior on the sphinx rendered scikit-learn.org. See: https://github.com/scikit-learn/scikit-learn/issues/21755 */display: inline-block !important;position: relative;}#sk-container-id-2 div.sk-text-repr-fallback {display: none;}</style><div id=\"sk-container-id-2\" class=\"sk-top-container\"><div class=\"sk-text-repr-fallback\"><pre>DecisionTreeClassifier(max_depth=4)</pre><b>In a Jupyter environment, please rerun this cell to show the HTML representation or trust the notebook. <br />On GitHub, the HTML representation is unable to render, please try loading this page with nbviewer.org.</b></div><div class=\"sk-container\" hidden><div class=\"sk-item\"><div class=\"sk-estimator sk-toggleable\"><input class=\"sk-toggleable__control sk-hidden--visually\" id=\"sk-estimator-id-2\" type=\"checkbox\" checked><label for=\"sk-estimator-id-2\" class=\"sk-toggleable__label sk-toggleable__label-arrow\">DecisionTreeClassifier</label><div class=\"sk-toggleable__content\"><pre>DecisionTreeClassifier(max_depth=4)</pre></div></div></div></div></div>"
      ],
      "text/plain": [
       "DecisionTreeClassifier(max_depth=4)"
      ]
     },
     "execution_count": 208,
     "metadata": {},
     "output_type": "execute_result"
    }
   ],
   "source": [
    "DTC = DecisionTreeClassifier(max_depth = 4)\n",
    "DTC.fit(X_clf, y_clf)"
   ]
  },
  {
   "cell_type": "code",
   "execution_count": 218,
   "metadata": {},
   "outputs": [],
   "source": [
    "feature_importance = DTC.tree_.compute_feature_importances"
   ]
  },
  {
   "cell_type": "code",
   "execution_count": null,
   "metadata": {},
   "outputs": [],
   "source": [
    "best_features = DTC.tree_.feature[DTC.tree_.feature>=0] # Feature number should not be negative, indicates a leaf node\n",
    "\n",
    "sorted(zip(best_features,feature_importance(False)[best_features]),key=lambda x:x[1],reverse=True)"
   ]
  },
  {
   "cell_type": "code",
   "execution_count": 221,
   "metadata": {},
   "outputs": [
    {
     "data": {
      "text/plain": [
       "array([ 4,  3,  0,  2,  2,  2,  1,  1, 18, 50,  4,  0,  1, 51],\n",
       "      dtype=int64)"
      ]
     },
     "execution_count": 221,
     "metadata": {},
     "output_type": "execute_result"
    }
   ],
   "source": [
    "best_features"
   ]
  },
  {
   "cell_type": "code",
   "execution_count": 223,
   "metadata": {},
   "outputs": [
    {
     "data": {
      "image/png": "[encoded data removed]",
      "text/plain": [
       "<Figure size 720x2160 with 1 Axes>"
      ]
     },
     "metadata": {
      "needs_background": "light"
     },
     "output_type": "display_data"
    }
   ],
   "source": [
    "# Looking at feature importance in the DTC model with a bar graph.\n",
    "# I don't think we can trust these as much as the regression variables because feature_importances isn't necessarily statistically robust (according to SK lean documentation)\n",
    "\n",
    "def plot_feature_importances_cancer(DTC):\n",
    "    n_features = X_clf.shape[1]\n",
    "    plt.figure(figsize=(10,30))\n",
    "    plt.barh(range(n_features), DTC.feature_importances_, align='center')\n",
    "    plt.yticks(np.arange(n_features), X_clf.columns)\n",
    "    plt.xlabel(\"Feature importance\")\n",
    "    plt.ylabel(\"Feature\")\n",
    "\n",
    "plot_feature_importances_cancer(DTC)"
   ]
  },
  {
   "cell_type": "code",
   "execution_count": null,
   "metadata": {
    "colab": {
     "base_uri": "https://localhost:8080/"
    },
    "executionInfo": {
     "elapsed": 865,
     "status": "ok",
     "timestamp": 1620154164882,
     "user": {
      "displayName": "David Henriques",
      "photoUrl": "",
      "userId": "14332050621134291491"
     },
     "user_tz": -60
    },
    "id": "iejyJGeAsBRA",
    "outputId": "39e489e8-85e3-475a-e6c9-a8817845e2d5"
   },
   "outputs": [],
   "source": [
    "from sklearn.tree import export_text\n",
    "\n",
    "r = export_text(DTC, feature_names=list(X_clf.columns))\n",
    "print(r)\n",
    "\n",
    "# Value is the estimate of the target variable"
   ]
  },
  {
   "cell_type": "code",
   "execution_count": null,
   "metadata": {},
   "outputs": [],
   "source": [
    "from sklearn import tree\n",
    "\n",
    "fig = plt.figure(figsize=(25,25))\n",
    "_ = tree.plot_tree(DTC, feature_names=list(X_clf.columns), filled=True)"
   ]
  }
 ],
 "metadata": {
  "kernelspec": {
   "display_name": "Python 3.9.12 ('base')",
   "language": "python",
   "name": "python3"
  },
  "language_info": {
   "codemirror_mode": {
    "name": "ipython",
    "version": 3
   },
   "file_extension": ".py",
   "mimetype": "text/x-python",
   "name": "python",
   "nbconvert_exporter": "python",
   "pygments_lexer": "ipython3",
   "version": "3.9.12"
  },
  "orig_nbformat": 4,
  "vscode": {
   "interpreter": {
    "hash": "40d3a090f54c6569ab1632332b64b2c03c39dcf918b08424e98f38b5ae0af88f"
   }
  }
 },
 "nbformat": 4,
 "nbformat_minor": 2
}
